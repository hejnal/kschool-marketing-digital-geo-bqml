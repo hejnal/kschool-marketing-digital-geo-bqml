{
  "cells": [
    {
      "cell_type": "markdown",
      "metadata": {
        "colab_type": "text",
        "id": "view-in-github"
      },
      "source": [
        "<a href=\"https://colab.research.google.com/github/hejnal/kschool-marketing-digital-geo-bqml/blob/main/colab/exercise2_EDA.ipynb\" target=\"_parent\"><img src=\"https://colab.research.google.com/assets/colab-badge.svg\" alt=\"Open In Colab\"/></a>"
      ]
    },
    {
      "cell_type": "markdown",
      "id": "d380129b-4838-4b8c-941e-7b51ce00df5a",
      "metadata": {
        "id": "d380129b-4838-4b8c-941e-7b51ce00df5a"
      },
      "source": [
        "# Análisis EDA para el conjunto de datos de Spotify"
      ]
    },
    {
      "cell_type": "markdown",
      "id": "db9cde18",
      "metadata": {
        "id": "db9cde18"
      },
      "source": [
        "## Instrucciones\n",
        "\n",
        "Usa Jupyter notebook y bibliotecas estándar para analizar los datos y generar gráficos.\n",
        "\n",
        "Para descargar el consumo de memoria, se pueden usar BigQuery DataFrames en lugar de Pandas normal."
      ]
    },
    {
      "cell_type": "markdown",
      "id": "05206a84-9206-43f0-bde1-61d03c343b23",
      "metadata": {
        "id": "05206a84-9206-43f0-bde1-61d03c343b23"
      },
      "source": [
        "## Instalar e importar bibliotecas"
      ]
    },
    {
      "cell_type": "code",
      "execution_count": null,
      "id": "f05b4be3-963a-44e3-898b-eba234fe7dc1",
      "metadata": {
        "id": "f05b4be3-963a-44e3-898b-eba234fe7dc1"
      },
      "outputs": [],
      "source": [
        "!pip install --user --upgrade --quiet bigframes plotly yellowbrick scikit-learn"
      ]
    },
    {
      "cell_type": "code",
      "execution_count": null,
      "id": "a07d695f-220a-4ea6-a3e4-e48470e05532",
      "metadata": {
        "id": "a07d695f-220a-4ea6-a3e4-e48470e05532"
      },
      "outputs": [],
      "source": [
        "import seaborn as sns\n",
        "from yellowbrick.target import FeatureCorrelation\n",
        "import plotly.express as px\n",
        "import matplotlib.pyplot as plt\n",
        "import numpy as np\n",
        "\n",
        "import warnings\n",
        "warnings.filterwarnings(\"ignore\")\n",
        "%matplotlib inline\n",
        "\n",
        "sns.set(rc={'figure.figsize':(11.7,8.27)})"
      ]
    },
    {
      "cell_type": "markdown",
      "id": "iOdsgh0i5Djs",
      "metadata": {
        "id": "iOdsgh0i5Djs"
      },
      "source": [
        "## [Solo en Colab] Autenticar"
      ]
    },
    {
      "cell_type": "code",
      "execution_count": null,
      "id": "zG4EIQL33d-7",
      "metadata": {
        "id": "zG4EIQL33d-7"
      },
      "outputs": [],
      "source": [
        "from google.colab import auth\n",
        "auth.authenticate_user()"
      ]
    },
    {
      "cell_type": "markdown",
      "id": "tmEN_i6JsbZt",
      "metadata": {
        "id": "tmEN_i6JsbZt"
      },
      "source": [
        "## Configurar proyecto, región y nombre de tabla"
      ]
    },
    {
      "cell_type": "code",
      "execution_count": null,
      "id": "iJ-OhL2dq8ZT",
      "metadata": {
        "cellView": "form",
        "id": "iJ-OhL2dq8ZT"
      },
      "outputs": [],
      "source": [
        "import bigframes.pandas as bpd\n",
        "\n",
        "PROJECT_ID = \"clean-silo-405314\"  # @param {type:\"string\"}\n",
        "REGION = \"US\"  # @param {type:\"string\"}\n",
        "bpd.close_session()\n",
        "\n",
        "# Configurar opciones de BigQuery DataFrames\n",
        "# Nota: La opción de proyecto no es necesaria en todos los entornos.\n",
        "# En BigQuery Studio, el ID del proyecto se detecta automáticamente.\n",
        "bpd.options.bigquery.project = PROJECT_ID\n",
        "\n",
        "# Nota: La opción de ubicación no es necesaria.\n",
        "# Por defecto, utiliza la ubicación de la primera tabla o consulta\n",
        "# pasada a read_gbq(). Para APIs donde no se puede detectar una ubicación,\n",
        "# automáticamente, la ubicación por defecto es \"US\"."
      ]
    },
    {
      "cell_type": "markdown",
      "id": "218d74b0-d834-4eab-be7f-666b7f8b5a6d",
      "metadata": {
        "id": "218d74b0-d834-4eab-be7f-666b7f8b5a6d",
        "tags": []
      },
      "source": [
        "## Cargar datos directamente desde BigQuery, usando funciones mágicas de bigquery o BigQuery DataFrames"
      ]
    },
    {
      "cell_type": "markdown",
      "id": "JzCdh30Drh5j",
      "metadata": {
        "id": "JzCdh30Drh5j"
      },
      "source": [
        "### Opción BigFrames - todas las agregaciones se realizan en BigQuery"
      ]
    },
    {
      "cell_type": "code",
      "execution_count": null,
      "id": "358631f9-2c68-48ae-8e08-389da8940af6",
      "metadata": {
        "id": "358631f9-2c68-48ae-8e08-389da8940af6",
        "tags": [
          "hide_input"
        ]
      },
      "outputs": [],
      "source": [
        "df = bpd.read_gbq('raw_data.spotify_full_dataset', columns=[\"artist_name\", \"track_name\", \"acousticness\", \"danceability\", \"duration_ms\", \"energy\", \"instrumentalness\", \"key\", \"liveness\", \"loudness\", \"mode\", \"popularity\", \"speechiness\", \"tempo\", \"valence\", \"year\"], use_cache=False)\n"
      ]
    },
    {
      "cell_type": "markdown",
      "id": "CLA_BJr3rmi-",
      "metadata": {
        "id": "CLA_BJr3rmi-"
      },
      "source": [
        "### Opción de palabra clave mágica - descargar datos a Pandas, procesar datos en la memoria local"
      ]
    },
    {
      "cell_type": "code",
      "execution_count": null,
      "id": "tsFuDpltrtA-",
      "metadata": {
        "id": "tsFuDpltrtA-"
      },
      "outputs": [],
      "source": [
        "# Cargar la extensión mágica de BigQuery\n",
        "%load_ext google.cloud.bigquery"
      ]
    },
    {
      "cell_type": "code",
      "execution_count": null,
      "id": "9vErTsXS4Enj",
      "metadata": {
        "id": "9vErTsXS4Enj"
      },
      "outputs": [],
      "source": [
        "%%bigquery df --project $PROJECT_ID --no_query_cache\n",
        "SELECT\n",
        "  artist_name,\n",
        "  track_name,\n",
        "  popularity,\n",
        "  year,\n",
        "  genre,\n",
        "  danceability,\n",
        "  energy,\n",
        "  key,\n",
        "  loudness,\n",
        "  mode,\n",
        "  speechiness,\n",
        "  acousticness,\n",
        "  instrumentalness,\n",
        "  liveness,\n",
        "  valence,\n",
        "  tempo,\n",
        "  duration_ms,\n",
        "  time_signature\n",
        "FROM\n",
        "  `raw_data.spotify_full_dataset`"
      ]
    },
    {
      "cell_type": "markdown",
      "id": "AjDS4vkbsSP3",
      "metadata": {
        "id": "AjDS4vkbsSP3"
      },
      "source": [
        "## Explorar el conjunto de datos de Spotify"
      ]
    },
    {
      "cell_type": "markdown",
      "id": "3IIWWQigslHo",
      "metadata": {
        "id": "3IIWWQigslHo"
      },
      "source": [
        "### Describir el dataframe"
      ]
    },
    {
      "cell_type": "code",
      "execution_count": null,
      "id": "sdChF1Hc3d-8",
      "metadata": {
        "id": "sdChF1Hc3d-8"
      },
      "outputs": [],
      "source": [
        "df.describe()"
      ]
    },
    {
      "cell_type": "markdown",
      "id": "bb436be9-e1e6-425e-87bb-ec5e7f4c28e8",
      "metadata": {
        "id": "bb436be9-e1e6-425e-87bb-ec5e7f4c28e8"
      },
      "source": [
        "### Inspeccionar los datos"
      ]
    },
    {
      "cell_type": "code",
      "execution_count": null,
      "id": "15369612-2ea3-4245-a5b1-8052fc41f36a",
      "metadata": {
        "id": "15369612-2ea3-4245-a5b1-8052fc41f36a"
      },
      "outputs": [],
      "source": [
        "# mostrar las primeras 5 filas\n",
        "df.head()"
      ]
    },
    {
      "cell_type": "markdown",
      "id": "e285263f-0357-4674-b751-bdf1f66bf5fd",
      "metadata": {
        "id": "e285263f-0357-4674-b751-bdf1f66bf5fd"
      },
      "source": [
        "Comprobemos los valores nulos"
      ]
    },
    {
      "cell_type": "code",
      "execution_count": null,
      "id": "63e31cdc-f808-4e22-9401-b0c88a459fe5",
      "metadata": {
        "id": "63e31cdc-f808-4e22-9401-b0c88a459fe5"
      },
      "outputs": [],
      "source": [
        "df.isnull().sum()"
      ]
    },
    {
      "cell_type": "markdown",
      "id": "LFMQjc3js6mu",
      "metadata": {
        "id": "LFMQjc3js6mu"
      },
      "source": [
        "Veamos las estadísticas de todas las características"
      ]
    },
    {
      "cell_type": "code",
      "execution_count": null,
      "id": "779b8787-9422-4066-9b09-a130c497c7b0",
      "metadata": {
        "id": "779b8787-9422-4066-9b09-a130c497c7b0"
      },
      "outputs": [],
      "source": [
        "df_stats = df.describe()\n",
        "df_stats = df_stats.transpose()\n",
        "df_stats"
      ]
    },
    {
      "cell_type": "code",
      "execution_count": null,
      "id": "8ebcde50-9105-4e40-bc0e-2324d5779370",
      "metadata": {
        "id": "8ebcde50-9105-4e40-bc0e-2324d5779370"
      },
      "outputs": [],
      "source": [
        "df.dtypes"
      ]
    },
    {
      "cell_type": "markdown",
      "id": "b89e4f31-023c-4f03-b33c-70bb8e5240fa",
      "metadata": {
        "id": "b89e4f31-023c-4f03-b33c-70bb8e5240fa"
      },
      "source": [
        "### Histogramas"
      ]
    },
    {
      "cell_type": "markdown",
      "id": "1DvPIU43tLOC",
      "metadata": {
        "id": "1DvPIU43tLOC"
      },
      "source": [
        "Veamos los gráficos de popularidad para artistas después de 2010."
      ]
    },
    {
      "cell_type": "code",
      "execution_count": null,
      "id": "8f637abd-f1b2-45e3-b900-5e49331597fd",
      "metadata": {
        "id": "8f637abd-f1b2-45e3-b900-5e49331597fd"
      },
      "outputs": [],
      "source": [
        "df_filtered = df.loc[df['year'] > 2010]\n",
        "\n",
        "sns.set(rc={'figure.figsize':(14.7,8.27)})\n",
        "sns.histplot(df_filtered['popularity'], kde=False)"
      ]
    },
    {
      "cell_type": "markdown",
      "id": "SOndVR5vTGti",
      "metadata": {
        "id": "SOndVR5vTGti"
      },
      "source": [
        "Popularidad sin valores atípicos."
      ]
    },
    {
      "cell_type": "code",
      "execution_count": null,
      "id": "ea2a1df8-9cba-4b62-8d4b-375c2fc4d5ba",
      "metadata": {
        "id": "ea2a1df8-9cba-4b62-8d4b-375c2fc4d5ba"
      },
      "outputs": [],
      "source": [
        "from scipy import stats\n",
        "numeric_features = df.select_dtypes(np.number)\n",
        "numeric_features_filtered = numeric_features.loc[(numeric_features['year'] >= 2010) & (numeric_features['popularity'] > 0)]\n",
        "numeric_features_filtered['popularity']\n",
        "np.abs(stats.zscore(np.array(numeric_features_filtered['popularity'], dtype=np.float64)))\n",
        "\n",
        "numeric_features_with_no_outliers = numeric_features_filtered[(np.abs(stats.zscore(np.array(numeric_features_filtered['popularity'], dtype=np.float64))) < 3)]\n",
        "\n",
        "sns.set(rc={'figure.figsize':(14.7,8.27)})\n",
        "sns.histplot(numeric_features_with_no_outliers['popularity'], kde=False)"
      ]
    },
    {
      "cell_type": "markdown",
      "id": "Yaq6A_AOTcDk",
      "metadata": {
        "id": "Yaq6A_AOTcDk"
      },
      "source": [
        "Analizar los últimos 3 años."
      ]
    },
    {
      "cell_type": "code",
      "execution_count": null,
      "id": "0bfa3f5f-89e9-4087-a4a8-0431b699e5d0",
      "metadata": {
        "id": "0bfa3f5f-89e9-4087-a4a8-0431b699e5d0"
      },
      "outputs": [],
      "source": [
        "df_filtered = df.loc[(df['year'] >= 2020) & (df['year'] <= 2023)]"
      ]
    },
    {
      "cell_type": "markdown",
      "id": "ukBZwGGbToUF",
      "metadata": {
        "id": "ukBZwGGbToUF"
      },
      "source": [
        "Analizar el número de canciones por década."
      ]
    },
    {
      "cell_type": "code",
      "execution_count": null,
      "id": "3c74f043-9dc0-4f19-becf-2d797b089bac",
      "metadata": {
        "id": "3c74f043-9dc0-4f19-becf-2d797b089bac"
      },
      "outputs": [],
      "source": [
        "def get_decade(year):\n",
        "    period_start = int(year/10) * 10\n",
        "    decade = '{}s'.format(period_start)\n",
        "    return decade\n",
        "\n",
        "df['decade'] = df['year'].apply(get_decade)\n",
        "\n",
        "sns.displot(df['decade'])"
      ]
    },
    {
      "cell_type": "markdown",
      "id": "0c033d1c-43f6-4492-817a-53911a292962",
      "metadata": {
        "id": "0c033d1c-43f6-4492-817a-53911a292962"
      },
      "source": [
        "### Correlación entre características"
      ]
    },
    {
      "cell_type": "code",
      "execution_count": null,
      "id": "db14a845-19a4-4aa7-8a8a-09c38334a358",
      "metadata": {
        "id": "db14a845-19a4-4aa7-8a8a-09c38334a358",
        "tags": []
      },
      "outputs": [],
      "source": [
        "# Filtrar a columnas numéricas\n",
        "numeric_columns = df.select_dtypes(include=np.number).columns\n",
        "df_numeric = df[numeric_columns]\n",
        "\n",
        "sns.set(rc={'figure.figsize':(12.7,8.27)})\n",
        "# Calcular correlación y trazar mapa de calor\n",
        "sns.heatmap(df_numeric.corr())"
      ]
    },
    {
      "cell_type": "markdown",
      "id": "eoOhgnFaUCnc",
      "metadata": {
        "id": "eoOhgnFaUCnc"
      },
      "source": [
        "Correlaciones más avanzadas: energía y popularidad, para diferentes modos - mayor y menor (azul naranja) para cada año por separado."
      ]
    },
    {
      "cell_type": "code",
      "execution_count": null,
      "id": "7535043c-9218-479d-b587-5103289ba25f",
      "metadata": {
        "id": "7535043c-9218-479d-b587-5103289ba25f",
        "tags": []
      },
      "outputs": [],
      "source": [
        "sns.set_theme()\n",
        "sns.set(rc={'figure.figsize':(12.7,8.27)})\n",
        "sns.relplot(data=df_filtered, x='energy', y='popularity', height=10, aspect=2, hue='mode', col='year', col_wrap=2)"
      ]
    },
    {
      "cell_type": "markdown",
      "id": "RkizFRYiURve",
      "metadata": {
        "id": "RkizFRYiURve"
      },
      "source": [
        "Correlación más básica en el gráfico de barras."
      ]
    },
    {
      "cell_type": "code",
      "execution_count": null,
      "id": "8c2a4e24-9414-4f65-aac0-c4dc8b4a56e1",
      "metadata": {
        "id": "8c2a4e24-9414-4f65-aac0-c4dc8b4a56e1"
      },
      "outputs": [],
      "source": [
        "feature_names = ['acousticness', 'danceability', 'energy', 'instrumentalness',\n",
        "                 'liveness', 'loudness', 'speechiness', 'tempo', 'valence','duration_ms', 'key', 'mode']\n",
        "\n",
        "X, y = df[feature_names], df['popularity']\n",
        "\n",
        "# Convertir columnas Int64 a float64 como opción segura\n",
        "for col in ['duration_ms', 'key', 'mode']:\n",
        "    if col in X.columns and X[col].dtype == 'Int64':\n",
        "        X[col] = X[col].astype(np.float64) # Usar float64 para ser consistente\n",
        "\n",
        "# Crear una lista de los nombres de las características (ya hecho, pero se mantiene para contexto)\n",
        "features = np.array(feature_names)\n",
        "\n",
        "# Instanciar el visualizador\n",
        "visualizer = FeatureCorrelation(labels=features)\n",
        "\n",
        "plt.rcParams['figure.figsize']=(15,15)\n",
        "visualizer.fit(X, y)     # Ajustar los datos al visualizador\n",
        "visualizer.show()\n"
      ]
    },
    {
      "cell_type": "markdown",
      "id": "387da1bd-a2c3-4a28-8775-00adb699be78",
      "metadata": {
        "id": "387da1bd-a2c3-4a28-8775-00adb699be78"
      },
      "source": [
        "### Series temporales"
      ]
    },
    {
      "cell_type": "code",
      "execution_count": null,
      "id": "e6439d1b-b3d7-4709-b4fc-3f115bb15a42",
      "metadata": {
        "id": "e6439d1b-b3d7-4709-b4fc-3f115bb15a42"
      },
      "outputs": [],
      "source": [
        "numeric_features = df.select_dtypes(np.number)"
      ]
    },
    {
      "cell_type": "code",
      "execution_count": null,
      "id": "ca6a2344-d97c-420c-ac35-0b389501218e",
      "metadata": {
        "id": "ca6a2344-d97c-420c-ac35-0b389501218e"
      },
      "outputs": [],
      "source": [
        "features_by_year = numeric_features.groupby(\"year\", as_index=False).mean()\n",
        "sound_features = ['acousticness', 'danceability', 'energy', 'instrumentalness', 'liveness', 'valence']\n",
        "\n",
        "# Visualizar la evolución de las características a lo largo del tiempo\n",
        "fig = px.line(features_by_year, x='year', y=sound_features, height=1000, width=1800)\n",
        "fig.show()"
      ]
    },
    {
      "cell_type": "markdown",
      "id": "pG8jKU8lAUEp",
      "metadata": {
        "id": "pG8jKU8lAUEp"
      },
      "source": [
        "## Ejercicios\n",
        "Para tu artista favorito, obtén algunas estadísticas interesantes sobre su carrera, cómo evolucionan sus canciones a lo largo del tiempo y qué las hace exitosas.\n",
        "\n",
        "Encuentra respuestas a las siguientes preguntas:\n",
        "\n",
        "* Ver la evolución de las características a lo largo del tiempo.\n",
        "* ¿En qué años publicaron sus canciones (álbumes) y cuántas canciones se lanzaron?\n",
        "* ¿Cuál es la canción más popular del artista?\n",
        "* ¿En qué año se lanzaron las canciones con los niveles de energía promedio más altos?\n",
        "* ¿Cuál es el nombre de la canción más bailable de tu artista favorito (el del grupo)?\n",
        "* ¿Qué característica tiene la mayor correlación con la popularidad de la canción?"
      ]
    },
    {
      "cell_type": "code",
      "execution_count": null,
      "id": "vTRjYnWuN8SD",
      "metadata": {
        "cellView": "form",
        "id": "vTRjYnWuN8SD"
      },
      "outputs": [],
      "source": [
        "# @title Función de ayuda\n",
        "# Función de ayuda para comparar resultados de Pandas y SQL\n",
        "def compare_results(pandas_df, sql_df, id_column=None):\n",
        "    \"\"\"\n",
        "    Compara DataFrames básicos de pandas y SQL con suposiciones mínimas.\n",
        "\n",
        "    Argumentos:\n",
        "        pandas_df: DataFrame de una operación de pandas\n",
        "        sql_df: DataFrame de una consulta SQL\n",
        "        id_column: Columna para ordenar la comparación (como 'year', 'track_name', etc.)\n",
        "    \"\"\"\n",
        "    # 1. Comprobar si las formas coinciden\n",
        "    if pandas_df.shape != sql_df.shape:\n",
        "        print(f\"Discrepancia de forma: Pandas {pandas_df.shape}, SQL {sql_df.shape}\")\n",
        "        return False\n",
        "\n",
        "    # 2. Asegurarse de que las columnas coinciden (ignorando el orden)\n",
        "    pandas_cols = set(pandas_df.columns)\n",
        "    sql_cols = set(sql_df.columns)\n",
        "    if pandas_cols != sql_cols:\n",
        "        print(f\"Discrepancia de columnas: Solo en Pandas {pandas_cols - sql_cols}, Solo en SQL {sql_cols - pandas_cols}\")\n",
        "        return False\n",
        "\n",
        "    # 3. Ordenar ambos DataFrames si es posible\n",
        "    if id_column and id_column in pandas_df.columns and id_column in sql_df.columns:\n",
        "        pandas_df = pandas_df.sort_values(id_column).reset_index(drop=True)\n",
        "        sql_df = sql_df.sort_values(id_column).reset_index(drop=True)\n",
        "    else:\n",
        "        # Si no hay columna id, ordenar por todas las columnas\n",
        "        pandas_df = pandas_df.sort_values(list(pandas_df.columns)).reset_index(drop=True)\n",
        "        sql_df = sql_df.sort_values(list(sql_df.columns)).reset_index(drop=True)\n",
        "\n",
        "    # 4. Mostrar las primeras filas de cada uno para inspección visual\n",
        "    print(\"DataFrame de Pandas:\")\n",
        "    display(pandas_df.head())\n",
        "    print(\"\\nDataFrame SQL:\")\n",
        "    display(sql_df.head())\n",
        "\n",
        "    # 5. Comprobar si los valores son aproximadamente iguales (manejar punto flotante)\n",
        "    for col in pandas_df.columns:\n",
        "        pandas_col = pandas_df[col]\n",
        "        sql_col = sql_df[col]\n",
        "\n",
        "        # Convertir al mismo tipo para comparación\n",
        "        if pandas_col.dtype != sql_col.dtype:\n",
        "            # Intentar convertir ambos a cadena para comparación\n",
        "            pandas_str = pandas_col.astype(str)\n",
        "            sql_str = sql_col.astype(str)\n",
        "\n",
        "            if not (pandas_str == sql_str).all():\n",
        "                print(f\"Los valores difieren en la columna: {col}\")\n",
        "                return False\n",
        "\n",
        "    print(\"✅ Comparación de DataFrames exitosa!\")\n",
        "    return True"
      ]
    },
    {
      "cell_type": "markdown",
      "id": "3F_IifruOO1M",
      "metadata": {
        "id": "3F_IifruOO1M"
      },
      "source": [
        "### Ejercicio 1: Filtrar datos por artista"
      ]
    },
    {
      "cell_type": "code",
      "execution_count": null,
      "id": "5Shh-yPUfLtA",
      "metadata": {
        "id": "5Shh-yPUfLtA"
      },
      "outputs": [],
      "source": [
        "df.loc[df[\"artist_name\"] == \"Bon Iver\"]"
      ]
    },
    {
      "cell_type": "code",
      "execution_count": null,
      "id": "ShwA86wOOQPo",
      "metadata": {
        "cellView": "form",
        "id": "ShwA86wOOQPo"
      },
      "outputs": [],
      "source": [
        "# @title Solución con Pandas\n",
        "my_artist_df_pandas = df.loc[df[\"artist_name\"] == \"Bon Iver\"]"
      ]
    },
    {
      "cell_type": "code",
      "execution_count": null,
      "id": "Sab5zbHndvCM",
      "metadata": {
        "id": "Sab5zbHndvCM"
      },
      "outputs": [],
      "source": [
        "my_artist_df_pandas"
      ]
    },
    {
      "cell_type": "code",
      "execution_count": null,
      "id": "-pdJjlQdOd54",
      "metadata": {
        "id": "-pdJjlQdOd54"
      },
      "outputs": [],
      "source": [
        "# @title Ejercicio SQL\n",
        "# TODO: Filtrar el conjunto de datos por artista usando SQL (BigQuery)\n",
        "# Usar el comando mágico %%bigquery para consultar la tabla raw_data.spotify_full_dataset\n",
        "\n",
        "%%bigquery my_artist_df --project $PROJECT_ID\n",
        "SELECT\n",
        "*\n",
        "FROM\n",
        "`raw_data.spotify_full_dataset`\n",
        "WHERE artist_name = 'Bon Iver'"
      ]
    },
    {
      "cell_type": "code",
      "execution_count": null,
      "id": "JlwWFeDUOnf1",
      "metadata": {
        "cellView": "form",
        "id": "JlwWFeDUOnf1"
      },
      "outputs": [],
      "source": [
        "# @title Solución SQL\n",
        "%%bigquery my_artist_df_sql --project $PROJECT_ID\n",
        "SELECT *\n",
        "FROM `raw_data.spotify_full_dataset`\n",
        "WHERE artist_name = 'Bon Iver'"
      ]
    },
    {
      "cell_type": "code",
      "execution_count": null,
      "id": "Giw9KeKZO3M7",
      "metadata": {
        "id": "Giw9KeKZO3M7"
      },
      "outputs": [],
      "source": [
        "# @title Comparar Pandas vs SQL\n",
        "# Comparar los resultados del filtrado con Pandas y SQL\n",
        "common_columns = list(set(my_artist_df_pandas.columns) & set(my_artist_df_sql.columns))\n",
        "compare_results(my_artist_df_pandas[common_columns], my_artist_df_sql[common_columns])"
      ]
    },
    {
      "cell_type": "markdown",
      "id": "PDtWmhYAQpxE",
      "metadata": {
        "id": "PDtWmhYAQpxE"
      },
      "source": [
        "### Ejercicio 2: ¿Cómo han evolucionado las características de las canciones a lo largo de los años?"
      ]
    },
    {
      "cell_type": "code",
      "execution_count": null,
      "id": "N9C1J88OQ1_a",
      "metadata": {
        "id": "N9C1J88OQ1_a"
      },
      "outputs": [],
      "source": [
        "# @title Ejercicio con Pandas\n",
        "# TODO: Calcular la evolución de las características a lo largo del tiempo usando Pandas\n",
        "# Agrupar por año y calcular la media de las características numéricas\n",
        "features_by_year_pandas ="
      ]
    },
    {
      "cell_type": "code",
      "execution_count": null,
      "id": "0Q2V0_a9Q1_a",
      "metadata": {
        "cellView": "form",
        "id": "0Q2V0_a9Q1_a"
      },
      "outputs": [],
      "source": [
        "# @title Solución con Pandas\n",
        "# Extraer características numéricas del dataframe del artista\n",
        "numeric_features = my_artist_df_pandas.select_dtypes(np.number)\n",
        "# Agrupar por año y calcular la media de cada característica\n",
        "features_by_year_pandas = numeric_features.groupby(\"year\", as_index=False).mean()"
      ]
    },
    {
      "cell_type": "code",
      "execution_count": null,
      "id": "repKKomDQ1_a",
      "metadata": {
        "id": "repKKomDQ1_a"
      },
      "outputs": [],
      "source": [
        "# @title Ejercicio SQL\n",
        "# TODO: Calcular la evolución de las características a lo largo del tiempo usando SQL (BigQuery)\n",
        "# Escribir una consulta que agrupe por año y calcule el promedio de cada característica de sonido\n",
        "\n",
        "%%bigquery features_by_year_sql --project $PROJECT_ID\n",
        "SELECT\n",
        "year,\n",
        "AVG(acousticness) AS acousticness,\n",
        "AVG(danceability) AS danceability,\n",
        "AVG(energy) AS energy,\n",
        "AVG(instrumentalness) AS instrumentalness,\n",
        "AVG(liveness) AS liveness,\n",
        "AVG(valence) AS valence\n",
        "FROM `raw_data.spotify_full_dataset`\n",
        "WHERE artist_name = 'Bon Iver'\n",
        "GROUP BY year\n",
        "ORDER BY year"
      ]
    },
    {
      "cell_type": "code",
      "execution_count": null,
      "id": "hl4m-VjgQ1_a",
      "metadata": {
        "cellView": "form",
        "id": "hl4m-VjgQ1_a"
      },
      "outputs": [],
      "source": [
        "# @title Solución SQL\n",
        "%%bigquery features_by_year_sql --project $PROJECT_ID\n",
        "SELECT\n",
        "year,\n",
        "AVG(acousticness) AS acousticness,\n",
        "AVG(danceability) AS danceability,\n",
        "AVG(energy) AS energy,\n",
        "AVG(instrumentalness) AS instrumentalness,\n",
        "AVG(liveness) AS liveness,\n",
        "AVG(valence) AS valence,\n",
        "AVG(loudness) AS loudness,\n",
        "AVG(speechiness) AS speechiness,\n",
        "AVG(tempo) AS tempo,\n",
        "AVG(duration_ms) AS duration_ms,\n",
        "AVG(key) AS key,\n",
        "AVG(mode) AS mode,\n",
        "AVG(popularity) AS popularity\n",
        "FROM `raw_data.spotify_full_dataset`\n",
        "WHERE artist_name = 'Bon Iver'\n",
        "GROUP BY year\n",
        "ORDER BY year"
      ]
    },
    {
      "cell_type": "code",
      "execution_count": null,
      "id": "1J5ibAvzQ1_b",
      "metadata": {
        "id": "1J5ibAvzQ1_b"
      },
      "outputs": [],
      "source": [
        "# @title Comparar Pandas vs SQL\n",
        "# Comparar los resultados de Pandas y SQL para la evolución de características\n",
        "# Enfocarse en las características clave de sonido para la comparación\n",
        "sound_features = ['acousticness', 'danceability', 'energy', 'instrumentalness', 'liveness', 'valence']\n",
        "# Añadir 'year' a las columnas de comparación ya que es nuestra clave de agrupación\n",
        "compare_columns = ['year'] + sound_features\n",
        "compare_results(features_by_year_pandas[compare_columns], features_by_year_sql[compare_columns])"
      ]
    },
    {
      "cell_type": "code",
      "execution_count": null,
      "id": "yQPnYhy9RnHc",
      "metadata": {
        "id": "yQPnYhy9RnHc"
      },
      "outputs": [],
      "source": [
        "# Visualizar la evolución de las características a lo largo del tiempo\n",
        "sound_features = ['acousticness', 'danceability', 'energy', 'instrumentalness', 'liveness', 'valence']\n",
        "fig = px.line(features_by_year_sql, x='year', y=sound_features, height=1000, width=1800,\n",
        "             title=\"Evolución de las características de sonido a lo largo del tiempo para Bon Iver\")\n",
        "fig.show()"
      ]
    },
    {
      "cell_type": "markdown",
      "id": "N8bjaYIsTHAU",
      "metadata": {
        "id": "N8bjaYIsTHAU"
      },
      "source": [
        "### Ejercicio 3: ¿En qué años publicaron sus canciones (álbumes) y cuántas canciones se lanzaron?"
      ]
    },
    {
      "cell_type": "code",
      "execution_count": null,
      "id": "17tspGVgTmdW",
      "metadata": {
        "id": "17tspGVgTmdW"
      },
      "outputs": [],
      "source": [
        "# @title Ejercicio con Pandas\n",
        "# TODO: ¿En qué años publicaron sus canciones (álbumes) y cuántas canciones se lanzaron? (usar num_songs como el contador de num_songs)\n",
        "\n",
        "songs_by_year_df_pandas ="
      ]
    },
    {
      "cell_type": "code",
      "execution_count": null,
      "id": "8fxbs_e9TmdW",
      "metadata": {
        "cellView": "form",
        "id": "8fxbs_e9TmdW"
      },
      "outputs": [],
      "source": [
        "# @title Solución con Pandas\n",
        "# TODO: ¿En qué años publicaron sus canciones (álbumes) y cuántas canciones se lanzaron? (usar num_songs como el contador de num_songs)\n",
        "\n",
        "songs_by_year_df_pandas = my_artist_df_pandas.groupby(\"year\").size().reset_index(name='num_songs').sort_index(ascending=True)"
      ]
    },
    {
      "cell_type": "code",
      "execution_count": null,
      "id": "QN9zyM24TmdX",
      "metadata": {
        "id": "QN9zyM24TmdX"
      },
      "outputs": [],
      "source": [
        "# @title Ejercicio SQL\n",
        "# Usar el comando mágico %%bigquery para consultar la tabla raw_data.spotify_full_dataset\n",
        "# (usar num_songs como el contador de num_songs)\n",
        "\n",
        "%%bigquery songs_by_year_df_sql --project $PROJECT_ID\n",
        "SELECT\n",
        "year,\n",
        "COUNT(*) AS num_songs\n",
        "FROM `raw_data.spotify_full_dataset`\n",
        "WHERE artist_name = 'Bon Iver'\n",
        "GROUP BY year\n",
        "ORDER BY year"
      ]
    },
    {
      "cell_type": "code",
      "execution_count": null,
      "id": "6gn29y-cTmdX",
      "metadata": {
        "cellView": "form",
        "id": "6gn29y-cTmdX"
      },
      "outputs": [],
      "source": [
        "# @title Solución SQL\n",
        "%%bigquery songs_by_year_df_sql --project $PROJECT_ID\n",
        "SELECT\n",
        "  year,\n",
        "  COUNT(*) AS num_songs\n",
        "FROM `raw_data.spotify_full_dataset`\n",
        "WHERE artist_name = 'Bon Iver'\n",
        "GROUP BY year\n",
        "ORDER BY year"
      ]
    },
    {
      "cell_type": "code",
      "execution_count": null,
      "id": "25IIZT37TmdX",
      "metadata": {
        "id": "25IIZT37TmdX"
      },
      "outputs": [],
      "source": [
        "# @title Comparar Pandas vs SQL\n",
        "# Comparar los resultados del filtrado con Pandas y SQL\n",
        "common_columns = list(set(songs_by_year_df_pandas.columns) & set(songs_by_year_df_sql.columns))\n",
        "compare_results(songs_by_year_df_pandas[common_columns], songs_by_year_df_sql[common_columns])"
      ]
    },
    {
      "cell_type": "markdown",
      "id": "xuGH1l1GTn1d",
      "metadata": {
        "id": "xuGH1l1GTn1d"
      },
      "source": [
        "### Ejercicio 4: ¿Cuál es la canción más popular de tu artista?"
      ]
    },
    {
      "cell_type": "code",
      "execution_count": null,
      "id": "zXajnoJwT0EK",
      "metadata": {
        "id": "zXajnoJwT0EK"
      },
      "outputs": [],
      "source": [
        "# @title Ejercicio con Pandas\n",
        "# TODO: ¿Cuál es la canción más popular del artista?\n",
        "most_popular_song_df_pandas = # TODO: usar la función nlargest()\n"
      ]
    },
    {
      "cell_type": "code",
      "execution_count": null,
      "id": "uGle7i47T0EL",
      "metadata": {
        "cellView": "form",
        "id": "uGle7i47T0EL"
      },
      "outputs": [],
      "source": [
        "# @title Solución con Pandas\n",
        "most_popular_song_df_pandas = my_artist_df_pandas.nlargest(1, 'popularity')"
      ]
    },
    {
      "cell_type": "code",
      "execution_count": null,
      "id": "0CqVF1fBT0EL",
      "metadata": {
        "id": "0CqVF1fBT0EL"
      },
      "outputs": [],
      "source": [
        "# @title Ejercicio SQL\n",
        "# TODO: Filtrar el conjunto de datos por artista usando SQL (BigQuery)\n",
        "# Usar el comando mágico %%bigquery para consultar la tabla raw_data.spotify_full_dataset\n",
        "\n",
        "%%bigquery most_popular_song_df_sql --project $PROJECT_ID\n",
        "SELECT\n",
        "*\n",
        "FROM\n",
        "`raw_data.spotify_full_dataset`\n",
        "WHERE artist_name = 'Bon Iver'\n",
        "ORDER BY popularity DESC\n",
        "LIMIT 1"
      ]
    },
    {
      "cell_type": "code",
      "execution_count": null,
      "id": "-eQaKGUoT0EL",
      "metadata": {
        "cellView": "form",
        "id": "-eQaKGUoT0EL"
      },
      "outputs": [],
      "source": [
        "# @title Solución SQL\n",
        "%%bigquery most_popular_song_df_sql --project $PROJECT_ID\n",
        "SELECT\n",
        "  *\n",
        "FROM `raw_data.spotify_full_dataset`\n",
        "WHERE artist_name = 'Bon Iver'\n",
        "ORDER BY popularity DESC\n",
        "LIMIT 1"
      ]
    },
    {
      "cell_type": "code",
      "execution_count": null,
      "id": "lnCGatiBYq8P",
      "metadata": {
        "id": "lnCGatiBYq8P"
      },
      "outputs": [],
      "source": [
        "most_popular_song_df_sql"
      ]
    },
    {
      "cell_type": "code",
      "execution_count": null,
      "id": "l0C_d6OtT0EL",
      "metadata": {
        "id": "l0C_d6OtT0EL"
      },
      "outputs": [],
      "source": [
        "# @title Comparar Pandas vs SQL\n",
        "# Comparar los resultados del filtrado con Pandas y SQL\n",
        "common_columns = list(set(most_popular_song_df_pandas.columns) & set(most_popular_song_df_sql.columns))\n",
        "compare_results(most_popular_song_df_pandas[common_columns], most_popular_song_df_sql[common_columns])"
      ]
    },
    {
      "cell_type": "markdown",
      "id": "VE9b8KjNT2jp",
      "metadata": {
        "id": "VE9b8KjNT2jp"
      },
      "source": [
        "### Ejercicio 5: ¿Cuál ha sido el año con la mayor energía?"
      ]
    },
    {
      "cell_type": "code",
      "execution_count": null,
      "id": "d2BlwpPvT_Vt",
      "metadata": {
        "id": "d2BlwpPvT_Vt"
      },
      "outputs": [],
      "source": [
        "# @title Ejercicio con Pandas\n",
        "# TODO: ¿En qué año se lanzaron las canciones con los niveles de energía promedio más altos?\n",
        "\n",
        "# usar las funciones groupby y agg().\n",
        "highest_energy_df_pandas ="
      ]
    },
    {
      "cell_type": "code",
      "execution_count": null,
      "id": "34iLl0XtT_Vt",
      "metadata": {
        "cellView": "form",
        "id": "34iLl0XtT_Vt"
      },
      "outputs": [],
      "source": [
        "# @title Solución con Pandas\n",
        "# TODO: ¿En qué año se lanzaron las canciones con los niveles de energía promedio más altos?\n",
        "highest_energy_df_pandas = my_artist_df_pandas.groupby(\"year\").agg({\"energy\": \"mean\"}).sort_values(by=\"energy\", ascending=False).head(1).rename(columns={\"energy\": \"avg_energy\"})"
      ]
    },
    {
      "cell_type": "code",
      "execution_count": null,
      "id": "r8ndyg9AT_Vt",
      "metadata": {
        "id": "r8ndyg9AT_Vt"
      },
      "outputs": [],
      "source": [
        "# @title Ejercicio SQL\n",
        "# TODO: Filtrar el conjunto de datos por artista usando SQL (BigQuery)\n",
        "# Usar el comando mágico %%bigquery para consultar la tabla raw_data.spotify_full_dataset\n",
        "\n",
        "%%bigquery highest_energy_df_sql --project $PROJECT_ID\n",
        "SELECT\n",
        "year,\n",
        "AVG(energy) AS avg_energy\n",
        "FROM `raw_data.spotify_full_dataset`\n",
        "WHERE artist_name = 'Bon Iver'\n",
        "GROUP BY year\n",
        "ORDER BY avg_energy DESC\n",
        "LIMIT 1"
      ]
    },
    {
      "cell_type": "code",
      "execution_count": null,
      "id": "WCFGzC-WT_Vt",
      "metadata": {
        "cellView": "form",
        "id": "WCFGzC-WT_Vt"
      },
      "outputs": [],
      "source": [
        "# @title Solución SQL\n",
        "%%bigquery highest_energy_df_sql --project $PROJECT_ID\n",
        "\n",
        "SELECT\n",
        "  year,\n",
        "  AVG(energy) AS avg_energy\n",
        "FROM `raw_data.spotify_full_dataset`\n",
        "WHERE artist_name = 'Bon Iver'\n",
        "GROUP BY year\n",
        "ORDER BY avg_energy DESC\n",
        "LIMIT 1"
      ]
    },
    {
      "cell_type": "code",
      "execution_count": null,
      "id": "b7h5_dcwT_Vt",
      "metadata": {
        "id": "b7h5_dcwT_Vt"
      },
      "outputs": [],
      "source": [
        "# @title Comparar Pandas vs SQL\n",
        "# Comparar los resultados del filtrado con Pandas y SQL\n",
        "common_columns = list(set(highest_energy_df_pandas.columns) & set(highest_energy_df_sql.columns))\n",
        "compare_results(highest_energy_df_pandas[common_columns], highest_energy_df_sql[common_columns])"
      ]
    },
    {
      "cell_type": "markdown",
      "id": "j1pYMjb5UAgk",
      "metadata": {
        "id": "j1pYMjb5UAgk"
      },
      "source": [
        "### Ejercicio 6: Correlación de características con la popularidad"
      ]
    },
    {
      "cell_type": "code",
      "execution_count": null,
      "id": "Lu3-3_RiUP3r",
      "metadata": {
        "id": "Lu3-3_RiUP3r"
      },
      "outputs": [],
      "source": [
        "# @title Ejercicio con Pandas\n",
        "# TODO: ¿Qué característica tiene la mayor correlación con la popularidad de la canción?\n",
        "\n",
        "# Filtrar a columnas numéricas\n",
        "df_bon_iver_numeric_columns = my_artist_df_pandas.select_dtypes(include=np.number).columns\n",
        "df_bon_iver_numeric = my_artist_df_pandas[df_bon_iver_numeric_columns]\n",
        "\n",
        "# usar la función corr(). ignorar los índices de popularidad y año, ordenar y limitar a 1\n",
        "feature_corr_with_target_df_pandas ="
      ]
    },
    {
      "cell_type": "code",
      "execution_count": null,
      "id": "IvAoY4VaUP3r",
      "metadata": {
        "cellView": "form",
        "id": "IvAoY4VaUP3r"
      },
      "outputs": [],
      "source": [
        "# @title Solución con Pandas\n",
        "# TODO: ¿Qué característica tiene la mayor correlación con la popularidad de la canción?\n",
        "\n",
        "# Filtrar a columnas numéricas\n",
        "df_bon_iver_numeric_columns = my_artist_df_pandas.select_dtypes(include=np.number).columns\n",
        "df_bon_iver_numeric = my_artist_df_pandas[df_bon_iver_numeric_columns]\n",
        "\n",
        "# Primero calcular la matriz de correlación\n",
        "correlation_matrix = df_bon_iver_numeric.corr()\n",
        "\n",
        "# Extraer solo la columna de popularidad y eliminar la propia popularidad y cualquier otra columna que se desee excluir\n",
        "feature_correlations = correlation_matrix.drop(['popularity', 'year'], axis=0)[['popularity']]\n",
        "\n",
        "# Añadir una columna de correlación absoluta para ordenar\n",
        "feature_correlations['abs_correlation'] = feature_correlations['popularity'].abs()\n",
        "\n",
        "# Ordenar por correlación absoluta (descendente) y obtener la característica principal\n",
        "top_feature = feature_correlations.sort_values(by='abs_correlation', ascending=False).head(1)\n",
        "\n",
        "# Restablecer el índice para que el nombre de la característica sea una columna\n",
        "feature_corr_with_target_df_pandas = top_feature.reset_index()\n",
        "\n",
        "# Renombrar la columna de índice a 'feature'\n",
        "feature_corr_with_target_df_pandas.rename(columns={'index': 'feature'}, inplace=True)\n",
        "\n",
        "# Si es necesario, eliminar la columna abs_correlation para que coincida con la salida SQL\n",
        "feature_corr_with_target_df_pandas = feature_corr_with_target_df_pandas[['feature', 'popularity']]\n",
        "\n",
        "# Renombrar popularity para que coincida con la salida SQL\n",
        "feature_corr_with_target_df_pandas.rename(columns={'popularity': 'correlation_with_popularity'}, inplace=True)\n"
      ]
    },
    {
      "cell_type": "code",
      "execution_count": null,
      "id": "ex3cVjxgay8o",
      "metadata": {
        "id": "ex3cVjxgay8o"
      },
      "outputs": [],
      "source": [
        "feature_corr_with_target_df_pandas"
      ]
    },
    {
      "cell_type": "code",
      "execution_count": null,
      "id": "9Q6UiUr1UP3r",
      "metadata": {
        "id": "9Q6UiUr1UP3r"
      },
      "outputs": [],
      "source": [
        "# @title Ejercicio SQL\n",
        "# TODO: Filtrar el conjunto de datos por artista usando SQL (BigQuery)\n",
        "# Usar el comando mágico %%bigquery para consultar la tabla raw_data.spotify_full_dataset\n",
        "\n",
        "%%bigquery my_artist_df --project $PROJECT_ID\n",
        "SELECT\n",
        "*\n",
        "FROM\n",
        "`raw_data.spotify_full_dataset`\n",
        "WHERE artist_name = 'Bon Iver'\n"
      ]
    },
    {
      "cell_type": "code",
      "execution_count": null,
      "id": "Sjj5g3jBUP3r",
      "metadata": {
        "cellView": "form",
        "id": "Sjj5g3jBUP3r"
      },
      "outputs": [],
      "source": [
        "# @title Solución SQL\n",
        "%%bigquery feature_corr_with_target_df_sql --project $PROJECT_ID\n",
        "\n",
        "WITH all_correlations AS (\n",
        "  SELECT\n",
        "    'danceability' AS feature,\n",
        "    CORR(danceability, popularity) AS correlation_with_popularity\n",
        "  FROM `raw_data.spotify_full_dataset`\n",
        "  WHERE artist_name = 'Bon Iver'\n",
        "\n",
        "  UNION ALL\n",
        "\n",
        "  SELECT\n",
        "    'energy' AS feature,\n",
        "    CORR(energy, popularity) AS correlation_with_popularity\n",
        "  FROM `raw_data.spotify_full_dataset`\n",
        "  WHERE artist_name = 'Bon Iver'\n",
        "\n",
        "  UNION ALL\n",
        "\n",
        "  SELECT\n",
        "    'acousticness' AS feature,\n",
        "    CORR(acousticness, popularity) AS correlation_with_popularity\n",
        "  FROM `raw_data.spotify_full_dataset`\n",
        "  WHERE artist_name = 'Bon Iver'\n",
        "\n",
        "  UNION ALL\n",
        "\n",
        "  SELECT\n",
        "    'instrumentalness' AS feature,\n",
        "    CORR(instrumentalness, popularity) AS correlation_with_popularity\n",
        "  FROM `raw_data.spotify_full_dataset`\n",
        "  WHERE artist_name = 'Bon Iver'\n",
        "\n",
        "  UNION ALL\n",
        "\n",
        "  SELECT\n",
        "    'liveness' AS feature,\n",
        "    CORR(liveness, popularity) AS correlation_with_popularity\n",
        "  FROM `raw_data.spotify_full_dataset`\n",
        "  WHERE artist_name = 'Bon Iver'\n",
        "\n",
        "  UNION ALL\n",
        "\n",
        "  SELECT\n",
        "    'valence' AS feature,\n",
        "    CORR(valence, popularity) AS correlation_with_popularity\n",
        "  FROM `raw_data.spotify_full_dataset`\n",
        "  WHERE artist_name = 'Bon Iver'\n",
        "\n",
        "  UNION ALL\n",
        "\n",
        "  SELECT\n",
        "    'tempo' AS feature,\n",
        "    CORR(tempo, popularity) AS correlation_with_popularity\n",
        "  FROM `raw_data.spotify_full_dataset`\n",
        "  WHERE artist_name = 'Bon Iver'\n",
        "\n",
        "  UNION ALL\n",
        "\n",
        "  SELECT\n",
        "    'loudness' AS feature,\n",
        "    CORR(loudness, popularity) AS correlation_with_popularity\n",
        "  FROM `raw_data.spotify_full_dataset`\n",
        "  WHERE artist_name = 'Bon Iver'\n",
        "\n",
        "  UNION ALL\n",
        "\n",
        "  SELECT\n",
        "    'speechiness' AS feature,\n",
        "    CORR(speechiness, popularity) AS correlation_with_popularity\n",
        "  FROM `raw_data.spotify_full_dataset`\n",
        "  WHERE artist_name = 'Bon Iver'\n",
        "\n",
        "  UNION ALL\n",
        "\n",
        "  SELECT\n",
        "    'duration_ms' AS feature,\n",
        "    CORR(duration_ms, popularity) AS correlation_with_popularity\n",
        "  FROM `raw_data.spotify_full_dataset`\n",
        "  WHERE artist_name = 'Bon Iver'\n",
        "\n",
        "  UNION ALL\n",
        "\n",
        "  SELECT\n",
        "    'key' AS feature,\n",
        "    CORR(key, popularity) AS correlation_with_popularity\n",
        "  FROM `raw_data.spotify_full_dataset`\n",
        "  WHERE artist_name = 'Bon Iver'\n",
        "\n",
        "  UNION ALL\n",
        "\n",
        "  SELECT\n",
        "    'mode' AS feature,\n",
        "    CORR(mode, popularity) AS correlation_with_popularity\n",
        "  FROM `raw_data.spotify_full_dataset`\n",
        "  WHERE artist_name = 'Bon Iver'\n",
        ")\n",
        "\n",
        "SELECT\n",
        "  feature,\n",
        "  correlation_with_popularity\n",
        "FROM all_correlations\n",
        "ORDER BY ABS(correlation_with_popularity) DESC\n",
        "LIMIT 1"
      ]
    },
    {
      "cell_type": "code",
      "execution_count": null,
      "id": "O-QsUytEUP3r",
      "metadata": {
        "id": "O-QsUytEUP3r"
      },
      "outputs": [],
      "source": [
        "# @title Comparar Pandas vs SQL\n",
        "# Comparar los resultados del filtrado con Pandas y SQL\n",
        "common_columns = list(set(feature_corr_with_target_df_pandas.columns) & set(feature_corr_with_target_df_sql.columns))\n",
        "compare_results(feature_corr_with_target_df_pandas[common_columns], feature_corr_with_target_df_sql[common_columns])"
      ]
    }
  ],
  "metadata": {
    "colab": {
      "include_colab_link": true,
      "provenance": [],
      "toc_visible": true
    },
    "kernelspec": {
      "display_name": "Python (Local)",
      "language": "python",
      "name": "local-base"
    },
    "language_info": {
      "codemirror_mode": {
        "name": "ipython",
        "version": 3
      },
      "file_extension": ".py",
      "mimetype": "text/x-python",
      "name": "python",
      "nbconvert_exporter": "python",
      "pygments_lexer": "ipython3",
      "version": "3.7.12"
    }
  },
  "nbformat": 4,
  "nbformat_minor": 5
}
