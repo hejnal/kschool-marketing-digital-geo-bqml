{
  "cells": [
    {
      "cell_type": "markdown",
      "id": "40533b87",
      "metadata": {
        "id": "40533b87"
      },
      "source": [
        "<table align=\"left\">\n",
        "\n",
        "  <td>\n",
        "<a href=\"https://colab.research.google.com/github/hejnal/kschool-marketing-digital-geo-bqml/blob/main/colab/exercise8_spotify_clustering.ipynb\" target='_blank'>\n",
        "      <img src=\"https://cloud.google.com/ml-engine/images/colab-logo-32px.png\" alt=\"Colab logo\"> Run in Colab\n",
        "    </a>\n",
        "  </td>\n",
        "  <td>\n",
        "</table>"
      ]
    },
    {
      "cell_type": "markdown",
      "id": "00890d63-f7df-4810-b0f5-7d2e2240af9b",
      "metadata": {
        "id": "00890d63-f7df-4810-b0f5-7d2e2240af9b"
      },
      "source": [
        "# Spotify Clustering"
      ]
    },
    {
      "cell_type": "code",
      "execution_count": 1,
      "id": "zjhAZc_UZXq7",
      "metadata": {
        "id": "zjhAZc_UZXq7"
      },
      "outputs": [],
      "source": [
        "!pip install -U -q pandas-gbq"
      ]
    },
    {
      "cell_type": "code",
      "execution_count": 12,
      "id": "9c94edfa-6e76-4844-a3a2-6dcdca25a804",
      "metadata": {
        "id": "9c94edfa-6e76-4844-a3a2-6dcdca25a804"
      },
      "outputs": [],
      "source": [
        "from google.cloud import bigquery\n",
        "import pandas_gbq\n",
        "import pandas as pd"
      ]
    },
    {
      "cell_type": "code",
      "execution_count": 6,
      "id": "3767d0bc",
      "metadata": {
        "id": "3767d0bc"
      },
      "outputs": [],
      "source": [
        "from google.colab import auth\n",
        "auth.authenticate_user()"
      ]
    },
    {
      "cell_type": "code",
      "execution_count": 6,
      "id": "TXNtd2FraYV5",
      "metadata": {
        "id": "TXNtd2FraYV5"
      },
      "outputs": [],
      "source": [
        "PROJECT_ID = \"clean-silo-405314\" # @param {\"type\": \"string\"}\n",
        "DATASET_ID = \"demo\" # @param {\"type\": \"string\"}\n",
        "PCA2_TABLE_ID = \"spotify_clusters_pca_2_2010\" # @param {\"type\": \"string\"}\n",
        "PCA3_TABLE_ID = \"spotify_clusters_pca_3_2010\" # @param {\"type\": \"string\"}"
      ]
    },
    {
      "cell_type": "code",
      "execution_count": 7,
      "id": "3d6624e9",
      "metadata": {
        "id": "3d6624e9"
      },
      "outputs": [],
      "source": [
        "query = f'''\n",
        "SELECT * FROM `{PROJECT_ID}.{DATASET_ID}.{PCA2_TABLE_ID}` LIMIT 100\n",
        "'''"
      ]
    },
    {
      "cell_type": "code",
      "execution_count": null,
      "id": "96b42960-c721-454c-a8e3-5190793d9078",
      "metadata": {
        "colab": {
          "base_uri": "https://localhost:8080/"
        },
        "id": "96b42960-c721-454c-a8e3-5190793d9078",
        "outputId": "dd085f4c-c46c-4a20-e9cd-3b76a8f3c846"
      },
      "outputs": [],
      "source": [
        "\n",
        "\n",
        "billing_project_id = PROJECT_ID\n",
        "\n",
        "pca_2_spotify = pandas_gbq.read_gbq(query, project_id=billing_project_id)\n"
      ]
    },
    {
      "cell_type": "code",
      "execution_count": 10,
      "id": "bea875eb",
      "metadata": {
        "id": "bea875eb"
      },
      "outputs": [],
      "source": [
        "query = f'''\n",
        "SELECT * FROM `{PROJECT_ID}.{DATASET_ID}.{PCA3_TABLE_ID}` LIMIT 100\n",
        "'''"
      ]
    },
    {
      "cell_type": "code",
      "execution_count": null,
      "id": "54a82b7d-f30e-471e-94be-3969cb647ff7",
      "metadata": {
        "colab": {
          "base_uri": "https://localhost:8080/"
        },
        "id": "54a82b7d-f30e-471e-94be-3969cb647ff7",
        "outputId": "144aff09-2fcf-46db-90ca-724c47ad0bee"
      },
      "outputs": [],
      "source": [
        "pca_3_spotify = pandas_gbq.read_gbq(query, project_id=billing_project_id)"
      ]
    },
    {
      "cell_type": "code",
      "execution_count": 13,
      "id": "8617f803-29e1-4a50-83fb-6627d6d31ac6",
      "metadata": {
        "id": "8617f803-29e1-4a50-83fb-6627d6d31ac6"
      },
      "outputs": [],
      "source": [
        "y = pca_3_spotify.iloc[:,0]\n",
        "x = pca_3_spotify.iloc[:, 1]\n",
        "z = pca_3_spotify.iloc[:, 2]\n",
        "artists = pca_3_spotify['artist']"
      ]
    },
    {
      "cell_type": "code",
      "execution_count": null,
      "id": "HYh1JTb8aJFo",
      "metadata": {
        "colab": {
          "base_uri": "https://localhost:8080/",
          "height": 1000
        },
        "id": "HYh1JTb8aJFo",
        "outputId": "7b754300-6059-4161-af01-06caa82964cf"
      },
      "outputs": [],
      "source": [
        "import plotly.express as px\n",
        "fig = px.scatter(pca_2_spotify, x=\"principal_component_1\", y=\"principal_component_2\", color=\"artist\",\n",
        "                  hover_data=['principal_component_1'], width=2000, height=1000)\n",
        "\n",
        "fig.update_layout(\n",
        "    margin=dict(l=20, r=20, t=20, b=20),\n",
        "    paper_bgcolor=\"LightSteelBlue\",\n",
        ")\n",
        "\n",
        "fig.show()"
      ]
    },
    {
      "cell_type": "code",
      "execution_count": null,
      "id": "9a0d68ee-8800-4510-9eb0-36551c8c06bb",
      "metadata": {
        "colab": {
          "base_uri": "https://localhost:8080/",
          "height": 1000
        },
        "id": "9a0d68ee-8800-4510-9eb0-36551c8c06bb",
        "outputId": "bcdb806d-37de-46e2-9878-3e41bee0e65c"
      },
      "outputs": [],
      "source": [
        "import plotly.express as px\n",
        "fig = px.scatter_3d(pca_3_spotify, x=\"principal_component_1\", y=\"principal_component_2\", z=\"principal_component_3\", color=\"artist\",\n",
        "                  hover_data=['principal_component_1'], width=2000, height=1000)\n",
        "\n",
        "fig.update_layout(\n",
        "    margin=dict(l=20, r=20, t=20, b=20),\n",
        "    paper_bgcolor=\"LightSteelBlue\",\n",
        ")\n",
        "\n",
        "fig.show()"
      ]
    }
  ],
  "metadata": {
    "colab": {
      "provenance": []
    },
    "kernelspec": {
      "display_name": "Python (Local)",
      "language": "python",
      "name": "local-base"
    },
    "language_info": {
      "codemirror_mode": {
        "name": "ipython",
        "version": 3
      },
      "file_extension": ".py",
      "mimetype": "text/x-python",
      "name": "python",
      "nbconvert_exporter": "python",
      "pygments_lexer": "ipython3",
      "version": "3.7.12"
    }
  },
  "nbformat": 4,
  "nbformat_minor": 5
}
