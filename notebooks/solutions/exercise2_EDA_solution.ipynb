{
  "cells": [
    {
      "cell_type": "markdown",
      "metadata": {
        "id": "view-in-github",
        "colab_type": "text"
      },
      "source": [
        "<a href=\"https://colab.research.google.com/github/hejnal/kschool-marketing-digital-geo-bqml/blob/main/notebooks/solutions/exercise2_EDA_solution.ipynb\" target=\"_parent\"><img src=\"https://colab.research.google.com/assets/colab-badge.svg\" alt=\"Open In Colab\"/></a>"
      ]
    },
    {
      "cell_type": "markdown",
      "id": "d380129b-4838-4b8c-941e-7b51ce00df5a",
      "metadata": {
        "id": "d380129b-4838-4b8c-941e-7b51ce00df5a"
      },
      "source": [
        "# EDA Analysis for Spotify Dataset"
      ]
    },
    {
      "cell_type": "markdown",
      "id": "db9cde18",
      "metadata": {
        "id": "db9cde18"
      },
      "source": [
        "## Instructions\n",
        "\n",
        "Use Jupyter notebook and standard libraries to analyze the data and generate graphs.\n",
        "\n",
        "To offload the memory consumption, BigQuery DataFrames can be used instead of normal Pandas."
      ]
    },
    {
      "cell_type": "markdown",
      "id": "05206a84-9206-43f0-bde1-61d03c343b23",
      "metadata": {
        "id": "05206a84-9206-43f0-bde1-61d03c343b23"
      },
      "source": [
        "## Install and import Libraries"
      ]
    },
    {
      "cell_type": "code",
      "execution_count": null,
      "id": "f05b4be3-963a-44e3-898b-eba234fe7dc1",
      "metadata": {
        "id": "f05b4be3-963a-44e3-898b-eba234fe7dc1"
      },
      "outputs": [],
      "source": [
        "!pip install --user --upgrade --quiet bigframes plotly yellowbrick scikit-learn"
      ]
    },
    {
      "cell_type": "code",
      "execution_count": null,
      "id": "a07d695f-220a-4ea6-a3e4-e48470e05532",
      "metadata": {
        "id": "a07d695f-220a-4ea6-a3e4-e48470e05532"
      },
      "outputs": [],
      "source": [
        "import seaborn as sns\n",
        "from yellowbrick.target import FeatureCorrelation\n",
        "import plotly.express as px\n",
        "import matplotlib.pyplot as plt\n",
        "import numpy as np\n",
        "\n",
        "import warnings\n",
        "warnings.filterwarnings(\"ignore\")\n",
        "%matplotlib inline\n",
        "\n",
        "sns.set(rc={'figure.figsize':(11.7,8.27)})"
      ]
    },
    {
      "cell_type": "markdown",
      "source": [
        "## [Colab Only] Authenticate"
      ],
      "metadata": {
        "id": "iOdsgh0i5Djs"
      },
      "id": "iOdsgh0i5Djs"
    },
    {
      "cell_type": "code",
      "source": [
        "from google.colab import auth\n",
        "auth.authenticate_user()"
      ],
      "metadata": {
        "id": "zG4EIQL33d-7"
      },
      "id": "zG4EIQL33d-7",
      "execution_count": null,
      "outputs": []
    },
    {
      "cell_type": "markdown",
      "source": [
        "## Setup Project and Region and Table Name"
      ],
      "metadata": {
        "id": "tmEN_i6JsbZt"
      },
      "id": "tmEN_i6JsbZt"
    },
    {
      "cell_type": "code",
      "source": [
        "import bigframes.pandas as bpd\n",
        "\n",
        "PROJECT_ID = \"clean-silo-405314\"  # @param {type:\"string\"}\n",
        "REGION = \"US\"  # @param {type:\"string\"}\n",
        "bpd.close_session()\n",
        "\n",
        "# Set BigQuery DataFrames options\n",
        "# Note: The project option is not required in all environments.\n",
        "# On BigQuery Studio, the project ID is automatically detected.\n",
        "bpd.options.bigquery.project = PROJECT_ID\n",
        "\n",
        "# Note: The location option is not required.\n",
        "# It defaults to the location of the first table or query\n",
        "# passed to read_gbq(). For APIs where a location can't be\n",
        "# auto-detected, the location defaults to the \"US\" location.\n",
        "bpd.options.bigquery.location = REGION"
      ],
      "metadata": {
        "cellView": "form",
        "id": "iJ-OhL2dq8ZT"
      },
      "id": "iJ-OhL2dq8ZT",
      "execution_count": null,
      "outputs": []
    },
    {
      "cell_type": "markdown",
      "id": "218d74b0-d834-4eab-be7f-666b7f8b5a6d",
      "metadata": {
        "tags": [],
        "id": "218d74b0-d834-4eab-be7f-666b7f8b5a6d"
      },
      "source": [
        "## Load data directly from BigQuery, using magic bigquery functions or BigQuery DataFrames"
      ]
    },
    {
      "cell_type": "markdown",
      "source": [
        "### BigFrames option - all aggregations are done in BigQuery"
      ],
      "metadata": {
        "id": "JzCdh30Drh5j"
      },
      "id": "JzCdh30Drh5j"
    },
    {
      "cell_type": "code",
      "execution_count": null,
      "id": "358631f9-2c68-48ae-8e08-389da8940af6",
      "metadata": {
        "tags": [
          "hide_input"
        ],
        "id": "358631f9-2c68-48ae-8e08-389da8940af6"
      },
      "outputs": [],
      "source": [
        "df = bpd.read_gbq('raw_data.spotify_full_dataset', columns=[\"artist_name\", \"track_name\", \"acousticness\", \"danceability\", \"duration_ms\", \"energy\", \"instrumentalness\", \"key\", \"liveness\", \"loudness\", \"mode\", \"popularity\", \"speechiness\", \"tempo\", \"valence\", \"year\"], use_cache=False)\n"
      ]
    },
    {
      "cell_type": "markdown",
      "source": [
        "### Magic Keyword option - download data to Pandas, process data in the local memory"
      ],
      "metadata": {
        "id": "CLA_BJr3rmi-"
      },
      "id": "CLA_BJr3rmi-"
    },
    {
      "cell_type": "code",
      "source": [
        "# Load BigQuery Magic extension\n",
        "%load_ext google.cloud.bigquery"
      ],
      "metadata": {
        "id": "tsFuDpltrtA-"
      },
      "id": "tsFuDpltrtA-",
      "execution_count": null,
      "outputs": []
    },
    {
      "cell_type": "code",
      "source": [
        "%%bigquery df --project $PROJECT_ID --no_query_cache\n",
        "SELECT\n",
        "  artist_name,\n",
        "  track_name,\n",
        "  popularity,\n",
        "  year,\n",
        "  genre,\n",
        "  danceability,\n",
        "  energy,\n",
        "  key,\n",
        "  loudness,\n",
        "  mode,\n",
        "  speechiness,\n",
        "  acousticness,\n",
        "  instrumentalness,\n",
        "  liveness,\n",
        "  valence,\n",
        "  tempo,\n",
        "  duration_ms,\n",
        "  time_signature\n",
        "FROM\n",
        "  `raw_data.spotify_full_dataset`"
      ],
      "metadata": {
        "id": "9vErTsXS4Enj"
      },
      "id": "9vErTsXS4Enj",
      "execution_count": null,
      "outputs": []
    },
    {
      "cell_type": "markdown",
      "source": [
        "## Explore Spotify dataset"
      ],
      "metadata": {
        "id": "AjDS4vkbsSP3"
      },
      "id": "AjDS4vkbsSP3"
    },
    {
      "cell_type": "markdown",
      "source": [
        "### Describe the dataframe"
      ],
      "metadata": {
        "id": "3IIWWQigslHo"
      },
      "id": "3IIWWQigslHo"
    },
    {
      "cell_type": "code",
      "source": [
        "df.describe()"
      ],
      "metadata": {
        "id": "sdChF1Hc3d-8"
      },
      "id": "sdChF1Hc3d-8",
      "execution_count": null,
      "outputs": []
    },
    {
      "cell_type": "markdown",
      "id": "bb436be9-e1e6-425e-87bb-ec5e7f4c28e8",
      "metadata": {
        "id": "bb436be9-e1e6-425e-87bb-ec5e7f4c28e8"
      },
      "source": [
        "### Inspect the data"
      ]
    },
    {
      "cell_type": "code",
      "execution_count": null,
      "id": "15369612-2ea3-4245-a5b1-8052fc41f36a",
      "metadata": {
        "id": "15369612-2ea3-4245-a5b1-8052fc41f36a"
      },
      "outputs": [],
      "source": [
        "# show first 5 rows\n",
        "df.head()"
      ]
    },
    {
      "cell_type": "markdown",
      "id": "e285263f-0357-4674-b751-bdf1f66bf5fd",
      "metadata": {
        "id": "e285263f-0357-4674-b751-bdf1f66bf5fd"
      },
      "source": [
        "Let's check for the null values"
      ]
    },
    {
      "cell_type": "code",
      "execution_count": null,
      "id": "63e31cdc-f808-4e22-9401-b0c88a459fe5",
      "metadata": {
        "id": "63e31cdc-f808-4e22-9401-b0c88a459fe5"
      },
      "outputs": [],
      "source": [
        "df.isnull().sum()"
      ]
    },
    {
      "cell_type": "markdown",
      "source": [
        "Let's see the stats for all the features"
      ],
      "metadata": {
        "id": "LFMQjc3js6mu"
      },
      "id": "LFMQjc3js6mu"
    },
    {
      "cell_type": "code",
      "execution_count": null,
      "id": "779b8787-9422-4066-9b09-a130c497c7b0",
      "metadata": {
        "id": "779b8787-9422-4066-9b09-a130c497c7b0"
      },
      "outputs": [],
      "source": [
        "df_stats = df.describe()\n",
        "df_stats = df_stats.transpose()\n",
        "df_stats"
      ]
    },
    {
      "cell_type": "code",
      "execution_count": null,
      "id": "8ebcde50-9105-4e40-bc0e-2324d5779370",
      "metadata": {
        "id": "8ebcde50-9105-4e40-bc0e-2324d5779370"
      },
      "outputs": [],
      "source": [
        "df.dtypes"
      ]
    },
    {
      "cell_type": "markdown",
      "id": "b89e4f31-023c-4f03-b33c-70bb8e5240fa",
      "metadata": {
        "id": "b89e4f31-023c-4f03-b33c-70bb8e5240fa"
      },
      "source": [
        "### Histograms"
      ]
    },
    {
      "cell_type": "markdown",
      "source": [
        "Let's see the popularity charts for artists after 2010."
      ],
      "metadata": {
        "id": "1DvPIU43tLOC"
      },
      "id": "1DvPIU43tLOC"
    },
    {
      "cell_type": "code",
      "execution_count": null,
      "id": "8f637abd-f1b2-45e3-b900-5e49331597fd",
      "metadata": {
        "id": "8f637abd-f1b2-45e3-b900-5e49331597fd"
      },
      "outputs": [],
      "source": [
        "df_filtered = df.loc[df['year'] > 2010]\n",
        "\n",
        "sns.set(rc={'figure.figsize':(14.7,8.27)})\n",
        "sns.histplot(df_filtered['popularity'], kde=False)"
      ]
    },
    {
      "cell_type": "markdown",
      "source": [
        "Popularity without outliers."
      ],
      "metadata": {
        "id": "SOndVR5vTGti"
      },
      "id": "SOndVR5vTGti"
    },
    {
      "cell_type": "code",
      "execution_count": null,
      "id": "ea2a1df8-9cba-4b62-8d4b-375c2fc4d5ba",
      "metadata": {
        "id": "ea2a1df8-9cba-4b62-8d4b-375c2fc4d5ba"
      },
      "outputs": [],
      "source": [
        "from scipy import stats\n",
        "numeric_features = df.select_dtypes(np.number)\n",
        "numeric_features_filtered = numeric_features.loc[(numeric_features['year'] >= 2010) & (numeric_features['popularity'] > 0)]\n",
        "numeric_features_filtered['popularity']\n",
        "np.abs(stats.zscore(np.array(numeric_features_filtered['popularity'], dtype=np.float64)))\n",
        "\n",
        "numeric_features_with_no_outliers = numeric_features_filtered[(np.abs(stats.zscore(np.array(numeric_features_filtered['popularity'], dtype=np.float64))) < 3)]\n",
        "\n",
        "sns.set(rc={'figure.figsize':(14.7,8.27)})\n",
        "sns.histplot(numeric_features_with_no_outliers['popularity'], kde=False)"
      ]
    },
    {
      "cell_type": "markdown",
      "source": [
        "Analyse the last 3 years."
      ],
      "metadata": {
        "id": "Yaq6A_AOTcDk"
      },
      "id": "Yaq6A_AOTcDk"
    },
    {
      "cell_type": "code",
      "execution_count": null,
      "id": "0bfa3f5f-89e9-4087-a4a8-0431b699e5d0",
      "metadata": {
        "id": "0bfa3f5f-89e9-4087-a4a8-0431b699e5d0"
      },
      "outputs": [],
      "source": [
        "df_filtered = df.loc[(df['year'] >= 2020) & (df['year'] <= 2023)]"
      ]
    },
    {
      "cell_type": "markdown",
      "source": [
        "Analyse the number of songs per decade."
      ],
      "metadata": {
        "id": "ukBZwGGbToUF"
      },
      "id": "ukBZwGGbToUF"
    },
    {
      "cell_type": "code",
      "execution_count": null,
      "id": "3c74f043-9dc0-4f19-becf-2d797b089bac",
      "metadata": {
        "id": "3c74f043-9dc0-4f19-becf-2d797b089bac"
      },
      "outputs": [],
      "source": [
        "def get_decade(year):\n",
        "    period_start = int(year/10) * 10\n",
        "    decade = '{}s'.format(period_start)\n",
        "    return decade\n",
        "\n",
        "df['decade'] = df['year'].apply(get_decade)\n",
        "\n",
        "sns.displot(df['decade'])"
      ]
    },
    {
      "cell_type": "markdown",
      "id": "0c033d1c-43f6-4492-817a-53911a292962",
      "metadata": {
        "id": "0c033d1c-43f6-4492-817a-53911a292962"
      },
      "source": [
        "### Correlation between features"
      ]
    },
    {
      "cell_type": "code",
      "execution_count": null,
      "id": "db14a845-19a4-4aa7-8a8a-09c38334a358",
      "metadata": {
        "tags": [],
        "id": "db14a845-19a4-4aa7-8a8a-09c38334a358"
      },
      "outputs": [],
      "source": [
        "# Filter to numeric columns\n",
        "numeric_columns = df.select_dtypes(include=np.number).columns\n",
        "df_numeric = df[numeric_columns]\n",
        "\n",
        "sns.set(rc={'figure.figsize':(12.7,8.27)})\n",
        "# Calculate correlation and plot heatmap\n",
        "sns.heatmap(df_numeric.corr())"
      ]
    },
    {
      "cell_type": "markdown",
      "source": [
        "More advanced correlations: energy and popularity, for different modes - major and minor (blue orange) for each year separately."
      ],
      "metadata": {
        "id": "eoOhgnFaUCnc"
      },
      "id": "eoOhgnFaUCnc"
    },
    {
      "cell_type": "code",
      "execution_count": null,
      "id": "7535043c-9218-479d-b587-5103289ba25f",
      "metadata": {
        "tags": [],
        "id": "7535043c-9218-479d-b587-5103289ba25f"
      },
      "outputs": [],
      "source": [
        "sns.set_theme()\n",
        "sns.set(rc={'figure.figsize':(12.7,8.27)})\n",
        "sns.relplot(data=df_filtered, x='energy', y='popularity', height=10, aspect=2, hue='mode', col='year', col_wrap=2)"
      ]
    },
    {
      "cell_type": "markdown",
      "source": [
        "More basic correlation in the bar chart."
      ],
      "metadata": {
        "id": "RkizFRYiURve"
      },
      "id": "RkizFRYiURve"
    },
    {
      "cell_type": "code",
      "execution_count": null,
      "id": "8c2a4e24-9414-4f65-aac0-c4dc8b4a56e1",
      "metadata": {
        "id": "8c2a4e24-9414-4f65-aac0-c4dc8b4a56e1"
      },
      "outputs": [],
      "source": [
        "feature_names = ['acousticness', 'danceability', 'energy', 'instrumentalness',\n",
        "                 'liveness', 'loudness', 'speechiness', 'tempo', 'valence','duration_ms', 'key', 'mode']\n",
        "\n",
        "X, y = df[feature_names], df['popularity']\n",
        "\n",
        "# Convert Int64 columns to float64 as a safe option\n",
        "for col in ['duration_ms', 'key', 'mode']:\n",
        "    if col in X.columns and X[col].dtype == 'Int64':\n",
        "        X[col] = X[col].astype(np.float64) # Use float64 to be consistent\n",
        "\n",
        "# Create a list of the feature names (already done, but keeping for context)\n",
        "features = np.array(feature_names)\n",
        "\n",
        "# Instantiate the visualizer\n",
        "visualizer = FeatureCorrelation(labels=features)\n",
        "\n",
        "plt.rcParams['figure.figsize']=(15,15)\n",
        "visualizer.fit(X, y)     # Fit the data to the visualizer\n",
        "visualizer.show()\n"
      ]
    },
    {
      "cell_type": "markdown",
      "id": "387da1bd-a2c3-4a28-8775-00adb699be78",
      "metadata": {
        "id": "387da1bd-a2c3-4a28-8775-00adb699be78"
      },
      "source": [
        "### Timeseries"
      ]
    },
    {
      "cell_type": "code",
      "execution_count": null,
      "id": "e6439d1b-b3d7-4709-b4fc-3f115bb15a42",
      "metadata": {
        "id": "e6439d1b-b3d7-4709-b4fc-3f115bb15a42"
      },
      "outputs": [],
      "source": [
        "numeric_features = df.select_dtypes(np.number)"
      ]
    },
    {
      "cell_type": "code",
      "execution_count": null,
      "id": "ca6a2344-d97c-420c-ac35-0b389501218e",
      "metadata": {
        "id": "ca6a2344-d97c-420c-ac35-0b389501218e"
      },
      "outputs": [],
      "source": [
        "features_by_year = numeric_features.groupby(\"year\", as_index=False).mean()\n",
        "sound_features = ['acousticness', 'danceability', 'energy', 'instrumentalness', 'liveness', 'valence']\n",
        "\n",
        "fig = px.line(features_by_year, x='year', y=sound_features, height=1000, width=1800)\n",
        "fig.show()"
      ]
    },
    {
      "cell_type": "markdown",
      "source": [
        "## Exercises\n",
        "For your favourite artist get some interesting stats about their career, how their song evolves, over time and what makes them successful.\n",
        "\n",
        "Find ansers to the following questions:\n",
        "\n",
        "* See the feature evolution over time.\n",
        "* In which years they published their songs (albums) and how many songs were released?\n",
        "* What is the most popular song by the artist?\n",
        "* In which year were the songs with the highest average energy levels released?\n",
        "* What is the name of the most danceable song by your favorite artist (the one in the group)?\n",
        "* Which feature has the highest correlation with song popularity?\n"
      ],
      "metadata": {
        "id": "pG8jKU8lAUEp"
      },
      "id": "pG8jKU8lAUEp"
    },
    {
      "cell_type": "code",
      "source": [
        "# TODO filter df dataset by the artist\n",
        "\n",
        "# my_artist_df ="
      ],
      "metadata": {
        "id": "d-oyIcoDApZ9"
      },
      "id": "d-oyIcoDApZ9",
      "execution_count": null,
      "outputs": []
    },
    {
      "cell_type": "code",
      "source": [
        "# @title Solution\n",
        "my_artist_df = df.loc[df[\"artist_name\"] == \"Bon Iver\"]"
      ],
      "metadata": {
        "cellView": "form",
        "id": "ShwA86wOOQPo"
      },
      "id": "ShwA86wOOQPo",
      "execution_count": null,
      "outputs": []
    },
    {
      "cell_type": "code",
      "source": [
        "# TODO: See the feature evolution over time\n",
        "\n",
        "numeric_features = my_artist_df.select_dtypes(np.number)\n",
        "features_by_year = numeric_features.groupby(\"year\", as_index=False).mean()\n",
        "sound_features = ['energy']\n",
        "\n",
        "fig = px.line(features_by_year, x='year', y=sound_features, height=1000, width=1800)\n",
        "fig.show()"
      ],
      "metadata": {
        "id": "y5J74Lv_OtB9"
      },
      "id": "y5J74Lv_OtB9",
      "execution_count": null,
      "outputs": []
    },
    {
      "cell_type": "code",
      "source": [
        "# @title Solution\n",
        "numeric_features = my_artist_df.select_dtypes(np.number)\n",
        "features_by_year = numeric_features.groupby(\"year\", as_index=False).mean()\n",
        "sound_features = ['acousticness', 'danceability', 'energy', 'instrumentalness', 'liveness', 'valence']\n",
        "\n",
        "fig = px.line(features_by_year, x='year', y=sound_features, height=1000, width=1800)\n",
        "fig.show()"
      ],
      "metadata": {
        "id": "A23DUyQnCbHY",
        "cellView": "form"
      },
      "id": "A23DUyQnCbHY",
      "execution_count": null,
      "outputs": []
    },
    {
      "cell_type": "code",
      "source": [
        "# TODO: In which years they published their songs (albums) and how many songs were released?\n",
        "\n",
        "songs_by_year_df = my_artist_df.groupby(\"year\").size().sort_index(ascending=True)\n",
        "\n",
        "plt.bar(songs_by_year_df.index, songs_by_year_df.values)\n",
        "\n",
        "# Add labels and title\n",
        "plt.xlabel(\"Year\")\n",
        "plt.ylabel(\"Number of Songs\")\n",
        "plt.title(\"Number of Songs Released by Bon Iver Each Year\")\n",
        "\n",
        "# Show the plot\n",
        "plt.show()"
      ],
      "metadata": {
        "id": "TuxMtRejHQBB"
      },
      "id": "TuxMtRejHQBB",
      "execution_count": null,
      "outputs": []
    },
    {
      "cell_type": "code",
      "source": [
        "# @title Solution\n",
        "# Questions: In which years they published their songs (albums) and how many songs were released?\n",
        "\n",
        "songs_by_year_df = my_artist_df.groupby(\"year\").size().sort_index(ascending=True)\n",
        "\n",
        "plt.bar(songs_by_year_df.index, songs_by_year_df.values)\n",
        "\n",
        "# Add labels and title\n",
        "plt.xlabel(\"Year\")\n",
        "plt.ylabel(\"Number of Songs\")\n",
        "plt.title(\"Number of Songs Released by Bon Iver Each Year\")\n",
        "\n",
        "# Show the plot\n",
        "plt.show()"
      ],
      "metadata": {
        "cellView": "form",
        "id": "mLjszof1PUJI"
      },
      "id": "mLjszof1PUJI",
      "execution_count": null,
      "outputs": []
    },
    {
      "cell_type": "code",
      "source": [
        "# TODO: What is the most popular song by the artist?\n",
        "most_popular_song = # TODO: use idxmax() as the index of the max element"
      ],
      "metadata": {
        "id": "-N9aZ9mOC_EU"
      },
      "id": "-N9aZ9mOC_EU",
      "execution_count": null,
      "outputs": []
    },
    {
      "cell_type": "code",
      "source": [
        "# @title Solution\n",
        "most_popular_song = my_artist_df.loc[my_artist_df['popularity'].idxmax()]\n",
        "print(most_popular_song)"
      ],
      "metadata": {
        "id": "fxSkRqYPEwrU",
        "cellView": "form"
      },
      "id": "fxSkRqYPEwrU",
      "execution_count": null,
      "outputs": []
    },
    {
      "cell_type": "code",
      "source": [
        "# TODO: In which year were the songs with the highest average energy levels released?\n",
        "\n",
        "# use groupby and agg() function."
      ],
      "metadata": {
        "id": "-SDX7dfOQxLZ"
      },
      "id": "-SDX7dfOQxLZ",
      "execution_count": null,
      "outputs": []
    },
    {
      "cell_type": "code",
      "source": [
        "# @title Solution\n",
        "# TODO: In which year were the songs with the highest average energy levels released?\n",
        "my_artist_df.groupby(\"year\").agg({\"energy\": \"mean\"}).sort_values(by=\"energy\", ascending=False).head(1)"
      ],
      "metadata": {
        "cellView": "form",
        "id": "ZUAZ7MUfHwHo"
      },
      "id": "ZUAZ7MUfHwHo",
      "execution_count": null,
      "outputs": []
    },
    {
      "cell_type": "code",
      "source": [
        "# TODO: What is the name of the most danceable song by your favorite artist (the one in the group)?\n",
        "\n",
        "# similar to the most popular song"
      ],
      "metadata": {
        "id": "w68abIIWRJus"
      },
      "id": "w68abIIWRJus",
      "execution_count": null,
      "outputs": []
    },
    {
      "cell_type": "code",
      "source": [
        "# @title Solution\n",
        "# TODO: What is the name of the most danceable song by your favorite artist (the one in the group)?\n",
        "most_danceable_song = my_artist_df.loc[my_artist_df['danceability'].idxmax()]\n",
        "print(most_danceable_song)"
      ],
      "metadata": {
        "cellView": "form",
        "id": "fYpAe8SZGJ1e"
      },
      "id": "fYpAe8SZGJ1e",
      "execution_count": null,
      "outputs": []
    },
    {
      "cell_type": "code",
      "source": [
        "# TODO: Which feature has the highest correlation with song popularity?\n",
        "\n",
        "# Filter to numeric columns\n",
        "df_bon_iver_numeric_columns = my_artist_df.select_dtypes(include=np.number).columns\n",
        "df_bon_iver_numeric = my_artist_df[df_bon_iver_numeric_columns]\n",
        "\n",
        "# use corr() function. ignore popularity and year indexes, sort and limit 1"
      ],
      "metadata": {
        "id": "rhtImtTyRdxC"
      },
      "id": "rhtImtTyRdxC",
      "execution_count": null,
      "outputs": []
    },
    {
      "cell_type": "code",
      "source": [
        "# @title Solution\n",
        "# TODO: Which feature has the highest correlation with song popularity?\n",
        "\n",
        "# Filter to numeric columns\n",
        "df_bon_iver_numeric_columns = my_artist_df.select_dtypes(include=np.number).columns\n",
        "df_bon_iver_numeric = my_artist_df[df_bon_iver_numeric_columns]\n",
        "\n",
        "df_bon_iver_numeric.corr().drop(['popularity', 'year']).loc[:, [\"popularity\"]].sort_values(by=\"popularity\", ascending=False).head(1)"
      ],
      "metadata": {
        "cellView": "form",
        "id": "lnjsGJ99I9lb"
      },
      "id": "lnjsGJ99I9lb",
      "execution_count": null,
      "outputs": []
    }
  ],
  "metadata": {
    "kernelspec": {
      "display_name": "Python (Local)",
      "language": "python",
      "name": "local-base"
    },
    "language_info": {
      "codemirror_mode": {
        "name": "ipython",
        "version": 3
      },
      "file_extension": ".py",
      "mimetype": "text/x-python",
      "name": "python",
      "nbconvert_exporter": "python",
      "pygments_lexer": "ipython3",
      "version": "3.7.12"
    },
    "colab": {
      "provenance": [],
      "include_colab_link": true
    }
  },
  "nbformat": 4,
  "nbformat_minor": 5
}