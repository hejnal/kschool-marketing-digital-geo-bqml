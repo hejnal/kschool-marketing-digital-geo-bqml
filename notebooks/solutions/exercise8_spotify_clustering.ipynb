{
  "cells": [
    {
      "cell_type": "markdown",
      "id": "40533b87",
      "metadata": {
        "id": "40533b87"
      },
      "source": [
        "<table align=\"left\">\n",
        "\n",
        "  <td>\n",
        "<a href=\"https://colab.research.google.com/github/hejnal/kschool-marketing-digital-geo-bqml/blob/main/notebooks/solutions/exercise8_spotify_clustering.ipynb\" target='_blank'>\n",
        "      <img src=\"https://cloud.google.com/ml-engine/images/colab-logo-32px.png\" alt=\"Colab logo\"> Run in Colab\n",
        "    </a>\n",
        "  </td>\n",
        "  <td>\n",
        "</table>"
      ]
    },
    {
      "cell_type": "markdown",
      "id": "00890d63-f7df-4810-b0f5-7d2e2240af9b",
      "metadata": {
        "id": "00890d63-f7df-4810-b0f5-7d2e2240af9b"
      },
      "source": [
        "# Spotify Clustering"
      ]
    },
    {
      "cell_type": "code",
      "source": [
        "!pip install -U -q pandas-gbq"
      ],
      "metadata": {
        "id": "zjhAZc_UZXq7"
      },
      "id": "zjhAZc_UZXq7",
      "execution_count": 1,
      "outputs": []
    },
    {
      "cell_type": "code",
      "execution_count": 12,
      "id": "9c94edfa-6e76-4844-a3a2-6dcdca25a804",
      "metadata": {
        "id": "9c94edfa-6e76-4844-a3a2-6dcdca25a804"
      },
      "outputs": [],
      "source": [
        "from google.cloud import bigquery\n",
        "import pandas_gbq\n",
        "import pandas as pd"
      ]
    },
    {
      "cell_type": "code",
      "execution_count": 6,
      "id": "3767d0bc",
      "metadata": {
        "id": "3767d0bc"
      },
      "outputs": [],
      "source": [
        "from google.colab import auth\n",
        "auth.authenticate_user()"
      ]
    },
    {
      "cell_type": "code",
      "source": [
        "PROJECT_ID = \"clean-silo-405314\" # @param {\"type\": \"string\"}\n",
        "DATASET_ID = \"demo\" # @param {\"type\": \"string\"}\n",
        "PCA2_TABLE_ID = \"spotify_clusters_pca_2_2010\" # @param {\"type\": \"string\"}\n",
        "PCA3_TABLE_ID = \"spotify_clusters_pca_3_2010\" # @param {\"type\": \"string\"}"
      ],
      "metadata": {
        "id": "TXNtd2FraYV5"
      },
      "id": "TXNtd2FraYV5",
      "execution_count": 6,
      "outputs": []
    },
    {
      "cell_type": "code",
      "execution_count": 7,
      "id": "3d6624e9",
      "metadata": {
        "id": "3d6624e9"
      },
      "outputs": [],
      "source": [
        "query = f'''\n",
        "SELECT * FROM `{PROJECT_ID}.{DATASET_ID}.{PCA2_TABLE_ID}` LIMIT 100\n",
        "'''"
      ]
    },
    {
      "cell_type": "code",
      "execution_count": 9,
      "id": "96b42960-c721-454c-a8e3-5190793d9078",
      "metadata": {
        "id": "96b42960-c721-454c-a8e3-5190793d9078",
        "outputId": "dd085f4c-c46c-4a20-e9cd-3b76a8f3c846",
        "colab": {
          "base_uri": "https://localhost:8080/"
        }
      },
      "outputs": [
        {
          "output_type": "stream",
          "name": "stdout",
          "text": [
            "Downloading: 100%|\u001b[32m██████████\u001b[0m|\n"
          ]
        }
      ],
      "source": [
        "\n",
        "\n",
        "billing_project_id = PROJECT_ID\n",
        "\n",
        "pca_2_spotify = pandas_gbq.read_gbq(query, project_id=billing_project_id)\n"
      ]
    },
    {
      "cell_type": "code",
      "execution_count": 10,
      "id": "bea875eb",
      "metadata": {
        "id": "bea875eb"
      },
      "outputs": [],
      "source": [
        "query = f'''\n",
        "SELECT * FROM `{PROJECT_ID}.{DATASET_ID}.{PCA3_TABLE_ID}` LIMIT 100\n",
        "'''"
      ]
    },
    {
      "cell_type": "code",
      "execution_count": 11,
      "id": "54a82b7d-f30e-471e-94be-3969cb647ff7",
      "metadata": {
        "id": "54a82b7d-f30e-471e-94be-3969cb647ff7",
        "outputId": "144aff09-2fcf-46db-90ca-724c47ad0bee",
        "colab": {
          "base_uri": "https://localhost:8080/"
        }
      },
      "outputs": [
        {
          "output_type": "stream",
          "name": "stdout",
          "text": [
            "Downloading: 100%|\u001b[32m██████████\u001b[0m|\n"
          ]
        }
      ],
      "source": [
        "pca_3_spotify = pandas_gbq.read_gbq(query, project_id=billing_project_id)"
      ]
    },
    {
      "cell_type": "code",
      "execution_count": 13,
      "id": "8617f803-29e1-4a50-83fb-6627d6d31ac6",
      "metadata": {
        "id": "8617f803-29e1-4a50-83fb-6627d6d31ac6"
      },
      "outputs": [],
      "source": [
        "y = pca_3_spotify.iloc[:,0]\n",
        "x = pca_3_spotify.iloc[:, 1]\n",
        "z = pca_3_spotify.iloc[:, 2]\n",
        "artists = pca_3_spotify['artist']"
      ]
    },
    {
      "cell_type": "code",
      "source": [
        "import plotly.express as px\n",
        "fig = px.scatter(pca_2_spotify, x=\"principal_component_1\", y=\"principal_component_2\", color=\"artist\",\n",
        "                  hover_data=['principal_component_1'], width=2000, height=1000)\n",
        "\n",
        "fig.update_layout(\n",
        "    margin=dict(l=20, r=20, t=20, b=20),\n",
        "    paper_bgcolor=\"LightSteelBlue\",\n",
        ")\n",
        "\n",
        "fig.show()"
      ],
      "metadata": {
        "id": "HYh1JTb8aJFo",
        "outputId": "7b754300-6059-4161-af01-06caa82964cf",
        "colab": {
          "base_uri": "https://localhost:8080/",
          "height": 1000
        }
      },
      "id": "HYh1JTb8aJFo",
      "execution_count": 14,
      "outputs": [
        {
          "output_type": "display_data",
          "data": {
            "text/html": [
              "<html>\n",
              "<head><meta charset=\"utf-8\" /></head>\n",
              "<body>\n",
              "    <div>            <script src=\"https://cdnjs.cloudflare.com/ajax/libs/mathjax/2.7.5/MathJax.js?config=TeX-AMS-MML_SVG\"></script><script type=\"text/javascript\">if (window.MathJax && window.MathJax.Hub && window.MathJax.Hub.Config) {window.MathJax.Hub.Config({SVG: {font: \"STIX-Web\"}});}</script>                <script type=\"text/javascript\">window.PlotlyConfig = {MathJaxConfig: 'local'};</script>\n",
              "        <script charset=\"utf-8\" src=\"https://cdn.plot.ly/plotly-2.35.2.min.js\"></script>                <div id=\"c3d69b2e-9710-45bf-a6a1-df84f988d7d7\" class=\"plotly-graph-div\" style=\"height:1000px; width:2000px;\"></div>            <script type=\"text/javascript\">                                    window.PLOTLYENV=window.PLOTLYENV || {};                                    if (document.getElementById(\"c3d69b2e-9710-45bf-a6a1-df84f988d7d7\")) {                    Plotly.newPlot(                        \"c3d69b2e-9710-45bf-a6a1-df84f988d7d7\",                        [{\"hovertemplate\":\"artist=2R\\u003cbr\\u003eprincipal_component_1=%{x}\\u003cbr\\u003eprincipal_component_2=%{y}\\u003cextra\\u003e\\u003c\\u002fextra\\u003e\",\"legendgroup\":\"2R\",\"marker\":{\"color\":\"#636efa\",\"symbol\":\"circle\"},\"mode\":\"markers\",\"name\":\"2R\",\"orientation\":\"v\",\"showlegend\":true,\"x\":[2.4122259533069466],\"xaxis\":\"x\",\"y\":[-0.8853362908953479],\"yaxis\":\"y\",\"type\":\"scatter\"},{\"hovertemplate\":\"artist=36\\u003cbr\\u003eprincipal_component_1=%{x}\\u003cbr\\u003eprincipal_component_2=%{y}\\u003cextra\\u003e\\u003c\\u002fextra\\u003e\",\"legendgroup\":\"36\",\"marker\":{\"color\":\"#EF553B\",\"symbol\":\"circle\"},\"mode\":\"markers\",\"name\":\"36\",\"orientation\":\"v\",\"showlegend\":true,\"x\":[-3.5785489010234706,-3.4190405705581304,-2.1630266102233695,-3.3790369698370895,-3.638388542939577],\"xaxis\":\"x\",\"y\":[1.3349325804741594,1.1516963543980558,2.0539578623532124,1.3918050260613568,1.1428099163385381],\"yaxis\":\"y\",\"type\":\"scatter\"},{\"hovertemplate\":\"artist=77\\u003cbr\\u003eprincipal_component_1=%{x}\\u003cbr\\u003eprincipal_component_2=%{y}\\u003cextra\\u003e\\u003c\\u002fextra\\u003e\",\"legendgroup\":\"77\",\"marker\":{\"color\":\"#00cc96\",\"symbol\":\"circle\"},\"mode\":\"markers\",\"name\":\"77\",\"orientation\":\"v\",\"showlegend\":true,\"x\":[1.2917288575742638],\"xaxis\":\"x\",\"y\":[-0.7907530016512676],\"yaxis\":\"y\",\"type\":\"scatter\"},{\"hovertemplate\":\"artist=84\\u003cbr\\u003eprincipal_component_1=%{x}\\u003cbr\\u003eprincipal_component_2=%{y}\\u003cextra\\u003e\\u003c\\u002fextra\\u003e\",\"legendgroup\":\"84\",\"marker\":{\"color\":\"#ab63fa\",\"symbol\":\"circle\"},\"mode\":\"markers\",\"name\":\"84\",\"orientation\":\"v\",\"showlegend\":true,\"x\":[0.6567489191443314,0.4126885975570404,0.5571294228114236,-0.6705498353498289,0.13737537009750944,-0.02590297268229924,-0.07665389758318442,-0.9398354776926284],\"xaxis\":\"x\",\"y\":[-1.1903509715082463,-0.17685687657505017,-0.6033967424284233,-1.3221957987395356,-1.0463190233645765,-0.8437069575352995,-1.2550024677010838,-1.3485241602614841],\"yaxis\":\"y\",\"type\":\"scatter\"},{\"hovertemplate\":\"artist=BT\\u003cbr\\u003eprincipal_component_1=%{x}\\u003cbr\\u003eprincipal_component_2=%{y}\\u003cextra\\u003e\\u003c\\u002fextra\\u003e\",\"legendgroup\":\"BT\",\"marker\":{\"color\":\"#FFA15A\",\"symbol\":\"circle\"},\"mode\":\"markers\",\"name\":\"BT\",\"orientation\":\"v\",\"showlegend\":true,\"x\":[1.3371897373698265,1.124441833966196,1.2807832664047516,-0.7463148528707146,1.4296664667037062,0.7601469924114733,1.163217212557281,1.02624439973435,1.0245800661978222,0.44709425972531514,1.2373526310527876,1.2494674994521793,0.733733494780181,0.16856296896333373],\"xaxis\":\"x\",\"y\":[1.186105052813798,-0.7719130539469492,0.01904591477774706,0.289857211028155,2.0791224152793686,0.5525176363455551,0.7521799182703158,1.1584815396144894,1.0621417942008722,0.5308699081379229,-0.26717057682100354,-0.14376702362250565,1.0185171588841468,0.3552211288060445],\"yaxis\":\"y\",\"type\":\"scatter\"},{\"hovertemplate\":\"artist=DZ\\u003cbr\\u003eprincipal_component_1=%{x}\\u003cbr\\u003eprincipal_component_2=%{y}\\u003cextra\\u003e\\u003c\\u002fextra\\u003e\",\"legendgroup\":\"DZ\",\"marker\":{\"color\":\"#19d3f3\",\"symbol\":\"circle\"},\"mode\":\"markers\",\"name\":\"DZ\",\"orientation\":\"v\",\"showlegend\":true,\"x\":[-0.1362286568977269,1.688663907376426,1.4116546446373963,0.22682832929813837,0.26309923719031614,1.5987322084006361,-0.5344240526184127,0.5301174808014939,0.37895766192923014,1.4343508591270724,0.5873078694732914],\"xaxis\":\"x\",\"y\":[0.20236992944221344,1.0916410821347642,0.7675532200746403,-1.0035381073415914,0.6790687463984648,-0.7109957689280414,-0.5814265981873696,1.2182518885912343,0.26606670371072005,-0.23453336916772352,0.37368506404222623],\"yaxis\":\"y\",\"type\":\"scatter\"},{\"hovertemplate\":\"artist=IU\\u003cbr\\u003eprincipal_component_1=%{x}\\u003cbr\\u003eprincipal_component_2=%{y}\\u003cextra\\u003e\\u003c\\u002fextra\\u003e\",\"legendgroup\":\"IU\",\"marker\":{\"color\":\"#FF6692\",\"symbol\":\"circle\"},\"mode\":\"markers\",\"name\":\"IU\",\"orientation\":\"v\",\"showlegend\":true,\"x\":[-1.4457114492955911,-0.5753858570330967,1.2405207176445152,-1.2564735326588294,-0.6292108771541416,1.1425550490895073,0.4474605051170751,-0.2607179517187911,-0.9137805104303922,-1.7058600283181178,1.0332955182821992,-0.22110080738613463,1.628673907057411,1.4710111096626384],\"xaxis\":\"x\",\"y\":[-0.8176955728923304,0.1552005744370063,-0.6510566099137416,-1.0735520868634332,-0.050453420286541206,-1.7904185044107361,-0.9052579520622774,-0.09356585129471046,-0.41407595648036644,0.079552663434306,-0.21672503047541625,-0.05066165613419438,-1.3028162824880742,-0.34586133652858797],\"yaxis\":\"y\",\"type\":\"scatter\"},{\"hovertemplate\":\"artist=JJ\\u003cbr\\u003eprincipal_component_1=%{x}\\u003cbr\\u003eprincipal_component_2=%{y}\\u003cextra\\u003e\\u003c\\u002fextra\\u003e\",\"legendgroup\":\"JJ\",\"marker\":{\"color\":\"#B6E880\",\"symbol\":\"circle\"},\"mode\":\"markers\",\"name\":\"JJ\",\"orientation\":\"v\",\"showlegend\":true,\"x\":[0.2672959503701129,-1.302726557790071,-2.8880729939669383],\"xaxis\":\"x\",\"y\":[-0.7151259863364023,-0.7970364162494588,0.40532299497945795],\"yaxis\":\"y\",\"type\":\"scatter\"},{\"hovertemplate\":\"artist=JW\\u003cbr\\u003eprincipal_component_1=%{x}\\u003cbr\\u003eprincipal_component_2=%{y}\\u003cextra\\u003e\\u003c\\u002fextra\\u003e\",\"legendgroup\":\"JW\",\"marker\":{\"color\":\"#FF97FF\",\"symbol\":\"circle\"},\"mode\":\"markers\",\"name\":\"JW\",\"orientation\":\"v\",\"showlegend\":true,\"x\":[1.6619501249883937,-0.06957235206924178,-0.6112333433610606,-0.7975404350047809,-0.1595812408144739],\"xaxis\":\"x\",\"y\":[-0.2917963090747123,-0.6347656391927334,-0.6765716529926901,-0.09944517380173612,-0.21307093305107166],\"yaxis\":\"y\",\"type\":\"scatter\"},{\"hovertemplate\":\"artist=KK\\u003cbr\\u003eprincipal_component_1=%{x}\\u003cbr\\u003eprincipal_component_2=%{y}\\u003cextra\\u003e\\u003c\\u002fextra\\u003e\",\"legendgroup\":\"KK\",\"marker\":{\"color\":\"#FECB52\",\"symbol\":\"circle\"},\"mode\":\"markers\",\"name\":\"KK\",\"orientation\":\"v\",\"showlegend\":true,\"x\":[0.1788481781590285,-1.2776092411979574,-1.5652499303831928,0.7766091063381714,1.508365129794302,-0.7011174509397147,-1.2316068152449797,1.4373270047541178,0.4535449638673518,-1.0857783610452794],\"xaxis\":\"x\",\"y\":[-0.2749777030462503,1.002506836510687,0.07111299633991464,-0.9252435699475261,0.8388107662599593,0.5739402231574406,-0.5515101389502701,-0.21160987126744696,-1.4561663513174448,0.2907585085391652],\"yaxis\":\"y\",\"type\":\"scatter\"},{\"hovertemplate\":\"artist=M6\\u003cbr\\u003eprincipal_component_1=%{x}\\u003cbr\\u003eprincipal_component_2=%{y}\\u003cextra\\u003e\\u003c\\u002fextra\\u003e\",\"legendgroup\":\"M6\",\"marker\":{\"color\":\"#636efa\",\"symbol\":\"circle\"},\"mode\":\"markers\",\"name\":\"M6\",\"orientation\":\"v\",\"showlegend\":true,\"x\":[1.6686628962854033,1.378324007640487],\"xaxis\":\"x\",\"y\":[-0.9749231373539906,-0.7773844210984959],\"yaxis\":\"y\",\"type\":\"scatter\"},{\"hovertemplate\":\"artist=PG\\u003cbr\\u003eprincipal_component_1=%{x}\\u003cbr\\u003eprincipal_component_2=%{y}\\u003cextra\\u003e\\u003c\\u002fextra\\u003e\",\"legendgroup\":\"PG\",\"marker\":{\"color\":\"#EF553B\",\"symbol\":\"circle\"},\"mode\":\"markers\",\"name\":\"PG\",\"orientation\":\"v\",\"showlegend\":true,\"x\":[-0.49327547733064714],\"xaxis\":\"x\",\"y\":[0.6430438351405194],\"yaxis\":\"y\",\"type\":\"scatter\"},{\"hovertemplate\":\"artist=TC\\u003cbr\\u003eprincipal_component_1=%{x}\\u003cbr\\u003eprincipal_component_2=%{y}\\u003cextra\\u003e\\u003c\\u002fextra\\u003e\",\"legendgroup\":\"TC\",\"marker\":{\"color\":\"#00cc96\",\"symbol\":\"circle\"},\"mode\":\"markers\",\"name\":\"TC\",\"orientation\":\"v\",\"showlegend\":true,\"x\":[0.22494247594868771,1.8202064244917564,1.0934052907502048,1.4559869530089882,0.7096181451876954,0.809288670155893],\"xaxis\":\"x\",\"y\":[0.555483393944255,-0.1468504980879194,-1.1424330129930995,1.4237296378139892,-0.6813447383507767,0.9927197286737932],\"yaxis\":\"y\",\"type\":\"scatter\"},{\"hovertemplate\":\"artist=YG\\u003cbr\\u003eprincipal_component_1=%{x}\\u003cbr\\u003eprincipal_component_2=%{y}\\u003cextra\\u003e\\u003c\\u002fextra\\u003e\",\"legendgroup\":\"YG\",\"marker\":{\"color\":\"#ab63fa\",\"symbol\":\"circle\"},\"mode\":\"markers\",\"name\":\"YG\",\"orientation\":\"v\",\"showlegend\":true,\"x\":[0.11285674992974185],\"xaxis\":\"x\",\"y\":[-0.6533624979020746],\"yaxis\":\"y\",\"type\":\"scatter\"},{\"hovertemplate\":\"artist=!!!\\u003cbr\\u003eprincipal_component_1=%{x}\\u003cbr\\u003eprincipal_component_2=%{y}\\u003cextra\\u003e\\u003c\\u002fextra\\u003e\",\"legendgroup\":\"!!!\",\"marker\":{\"color\":\"#FFA15A\",\"symbol\":\"circle\"},\"mode\":\"markers\",\"name\":\"!!!\",\"orientation\":\"v\",\"showlegend\":true,\"x\":[1.7516916440007635,1.7426853617908824,1.4322603429511713],\"xaxis\":\"x\",\"y\":[-0.7453740185317126,-1.2087259367416339,-0.9397301622616627],\"yaxis\":\"y\",\"type\":\"scatter\"},{\"hovertemplate\":\"artist=108\\u003cbr\\u003eprincipal_component_1=%{x}\\u003cbr\\u003eprincipal_component_2=%{y}\\u003cextra\\u003e\\u003c\\u002fextra\\u003e\",\"legendgroup\":\"108\",\"marker\":{\"color\":\"#19d3f3\",\"symbol\":\"circle\"},\"mode\":\"markers\",\"name\":\"108\",\"orientation\":\"v\",\"showlegend\":true,\"x\":[0.7939001122507189],\"xaxis\":\"x\",\"y\":[2.1973032293264474],\"yaxis\":\"y\",\"type\":\"scatter\"},{\"hovertemplate\":\"artist=113\\u003cbr\\u003eprincipal_component_1=%{x}\\u003cbr\\u003eprincipal_component_2=%{y}\\u003cextra\\u003e\\u003c\\u002fextra\\u003e\",\"legendgroup\":\"113\",\"marker\":{\"color\":\"#FF6692\",\"symbol\":\"circle\"},\"mode\":\"markers\",\"name\":\"113\",\"orientation\":\"v\",\"showlegend\":true,\"x\":[1.8913639859041318,1.1273186787989216],\"xaxis\":\"x\",\"y\":[-1.2161238416767501,-1.062573175513181],\"yaxis\":\"y\",\"type\":\"scatter\"},{\"hovertemplate\":\"artist=16B\\u003cbr\\u003eprincipal_component_1=%{x}\\u003cbr\\u003eprincipal_component_2=%{y}\\u003cextra\\u003e\\u003c\\u002fextra\\u003e\",\"legendgroup\":\"16B\",\"marker\":{\"color\":\"#B6E880\",\"symbol\":\"circle\"},\"mode\":\"markers\",\"name\":\"16B\",\"orientation\":\"v\",\"showlegend\":true,\"x\":[1.09781964842911],\"xaxis\":\"x\",\"y\":[1.1281990990127995],\"yaxis\":\"y\",\"type\":\"scatter\"},{\"hovertemplate\":\"artist=2PM\\u003cbr\\u003eprincipal_component_1=%{x}\\u003cbr\\u003eprincipal_component_2=%{y}\\u003cextra\\u003e\\u003c\\u002fextra\\u003e\",\"legendgroup\":\"2PM\",\"marker\":{\"color\":\"#FF97FF\",\"symbol\":\"circle\"},\"mode\":\"markers\",\"name\":\"2PM\",\"orientation\":\"v\",\"showlegend\":true,\"x\":[2.386471388288501,1.3687500963493389,2.1255363251212365,1.1130667238276153,1.5836314543574193,1.322138258786063,1.2238978608438558],\"xaxis\":\"x\",\"y\":[-1.5494705413251504,-0.8909562225667276,-1.549816982958944,-0.6864996452955493,-0.2864362563586757,0.12250324786772576,-0.4696383927048522],\"yaxis\":\"y\",\"type\":\"scatter\"},{\"hovertemplate\":\"artist=2am\\u003cbr\\u003eprincipal_component_1=%{x}\\u003cbr\\u003eprincipal_component_2=%{y}\\u003cextra\\u003e\\u003c\\u002fextra\\u003e\",\"legendgroup\":\"2am\",\"marker\":{\"color\":\"#FECB52\",\"symbol\":\"circle\"},\"mode\":\"markers\",\"name\":\"2am\",\"orientation\":\"v\",\"showlegend\":true,\"x\":[2.1613608429742035,-1.3505236122870268,1.5054241356508182,2.1198667543691116],\"xaxis\":\"x\",\"y\":[0.5248116027972147,-0.5414905219399384,-1.2040998889099908,0.27674226352113995],\"yaxis\":\"y\",\"type\":\"scatter\"}],                        {\"template\":{\"data\":{\"histogram2dcontour\":[{\"type\":\"histogram2dcontour\",\"colorbar\":{\"outlinewidth\":0,\"ticks\":\"\"},\"colorscale\":[[0.0,\"#0d0887\"],[0.1111111111111111,\"#46039f\"],[0.2222222222222222,\"#7201a8\"],[0.3333333333333333,\"#9c179e\"],[0.4444444444444444,\"#bd3786\"],[0.5555555555555556,\"#d8576b\"],[0.6666666666666666,\"#ed7953\"],[0.7777777777777778,\"#fb9f3a\"],[0.8888888888888888,\"#fdca26\"],[1.0,\"#f0f921\"]]}],\"choropleth\":[{\"type\":\"choropleth\",\"colorbar\":{\"outlinewidth\":0,\"ticks\":\"\"}}],\"histogram2d\":[{\"type\":\"histogram2d\",\"colorbar\":{\"outlinewidth\":0,\"ticks\":\"\"},\"colorscale\":[[0.0,\"#0d0887\"],[0.1111111111111111,\"#46039f\"],[0.2222222222222222,\"#7201a8\"],[0.3333333333333333,\"#9c179e\"],[0.4444444444444444,\"#bd3786\"],[0.5555555555555556,\"#d8576b\"],[0.6666666666666666,\"#ed7953\"],[0.7777777777777778,\"#fb9f3a\"],[0.8888888888888888,\"#fdca26\"],[1.0,\"#f0f921\"]]}],\"heatmap\":[{\"type\":\"heatmap\",\"colorbar\":{\"outlinewidth\":0,\"ticks\":\"\"},\"colorscale\":[[0.0,\"#0d0887\"],[0.1111111111111111,\"#46039f\"],[0.2222222222222222,\"#7201a8\"],[0.3333333333333333,\"#9c179e\"],[0.4444444444444444,\"#bd3786\"],[0.5555555555555556,\"#d8576b\"],[0.6666666666666666,\"#ed7953\"],[0.7777777777777778,\"#fb9f3a\"],[0.8888888888888888,\"#fdca26\"],[1.0,\"#f0f921\"]]}],\"heatmapgl\":[{\"type\":\"heatmapgl\",\"colorbar\":{\"outlinewidth\":0,\"ticks\":\"\"},\"colorscale\":[[0.0,\"#0d0887\"],[0.1111111111111111,\"#46039f\"],[0.2222222222222222,\"#7201a8\"],[0.3333333333333333,\"#9c179e\"],[0.4444444444444444,\"#bd3786\"],[0.5555555555555556,\"#d8576b\"],[0.6666666666666666,\"#ed7953\"],[0.7777777777777778,\"#fb9f3a\"],[0.8888888888888888,\"#fdca26\"],[1.0,\"#f0f921\"]]}],\"contourcarpet\":[{\"type\":\"contourcarpet\",\"colorbar\":{\"outlinewidth\":0,\"ticks\":\"\"}}],\"contour\":[{\"type\":\"contour\",\"colorbar\":{\"outlinewidth\":0,\"ticks\":\"\"},\"colorscale\":[[0.0,\"#0d0887\"],[0.1111111111111111,\"#46039f\"],[0.2222222222222222,\"#7201a8\"],[0.3333333333333333,\"#9c179e\"],[0.4444444444444444,\"#bd3786\"],[0.5555555555555556,\"#d8576b\"],[0.6666666666666666,\"#ed7953\"],[0.7777777777777778,\"#fb9f3a\"],[0.8888888888888888,\"#fdca26\"],[1.0,\"#f0f921\"]]}],\"surface\":[{\"type\":\"surface\",\"colorbar\":{\"outlinewidth\":0,\"ticks\":\"\"},\"colorscale\":[[0.0,\"#0d0887\"],[0.1111111111111111,\"#46039f\"],[0.2222222222222222,\"#7201a8\"],[0.3333333333333333,\"#9c179e\"],[0.4444444444444444,\"#bd3786\"],[0.5555555555555556,\"#d8576b\"],[0.6666666666666666,\"#ed7953\"],[0.7777777777777778,\"#fb9f3a\"],[0.8888888888888888,\"#fdca26\"],[1.0,\"#f0f921\"]]}],\"mesh3d\":[{\"type\":\"mesh3d\",\"colorbar\":{\"outlinewidth\":0,\"ticks\":\"\"}}],\"scatter\":[{\"fillpattern\":{\"fillmode\":\"overlay\",\"size\":10,\"solidity\":0.2},\"type\":\"scatter\"}],\"parcoords\":[{\"type\":\"parcoords\",\"line\":{\"colorbar\":{\"outlinewidth\":0,\"ticks\":\"\"}}}],\"scatterpolargl\":[{\"type\":\"scatterpolargl\",\"marker\":{\"colorbar\":{\"outlinewidth\":0,\"ticks\":\"\"}}}],\"bar\":[{\"error_x\":{\"color\":\"#2a3f5f\"},\"error_y\":{\"color\":\"#2a3f5f\"},\"marker\":{\"line\":{\"color\":\"#E5ECF6\",\"width\":0.5},\"pattern\":{\"fillmode\":\"overlay\",\"size\":10,\"solidity\":0.2}},\"type\":\"bar\"}],\"scattergeo\":[{\"type\":\"scattergeo\",\"marker\":{\"colorbar\":{\"outlinewidth\":0,\"ticks\":\"\"}}}],\"scatterpolar\":[{\"type\":\"scatterpolar\",\"marker\":{\"colorbar\":{\"outlinewidth\":0,\"ticks\":\"\"}}}],\"histogram\":[{\"marker\":{\"pattern\":{\"fillmode\":\"overlay\",\"size\":10,\"solidity\":0.2}},\"type\":\"histogram\"}],\"scattergl\":[{\"type\":\"scattergl\",\"marker\":{\"colorbar\":{\"outlinewidth\":0,\"ticks\":\"\"}}}],\"scatter3d\":[{\"type\":\"scatter3d\",\"line\":{\"colorbar\":{\"outlinewidth\":0,\"ticks\":\"\"}},\"marker\":{\"colorbar\":{\"outlinewidth\":0,\"ticks\":\"\"}}}],\"scattermapbox\":[{\"type\":\"scattermapbox\",\"marker\":{\"colorbar\":{\"outlinewidth\":0,\"ticks\":\"\"}}}],\"scatterternary\":[{\"type\":\"scatterternary\",\"marker\":{\"colorbar\":{\"outlinewidth\":0,\"ticks\":\"\"}}}],\"scattercarpet\":[{\"type\":\"scattercarpet\",\"marker\":{\"colorbar\":{\"outlinewidth\":0,\"ticks\":\"\"}}}],\"carpet\":[{\"aaxis\":{\"endlinecolor\":\"#2a3f5f\",\"gridcolor\":\"white\",\"linecolor\":\"white\",\"minorgridcolor\":\"white\",\"startlinecolor\":\"#2a3f5f\"},\"baxis\":{\"endlinecolor\":\"#2a3f5f\",\"gridcolor\":\"white\",\"linecolor\":\"white\",\"minorgridcolor\":\"white\",\"startlinecolor\":\"#2a3f5f\"},\"type\":\"carpet\"}],\"table\":[{\"cells\":{\"fill\":{\"color\":\"#EBF0F8\"},\"line\":{\"color\":\"white\"}},\"header\":{\"fill\":{\"color\":\"#C8D4E3\"},\"line\":{\"color\":\"white\"}},\"type\":\"table\"}],\"barpolar\":[{\"marker\":{\"line\":{\"color\":\"#E5ECF6\",\"width\":0.5},\"pattern\":{\"fillmode\":\"overlay\",\"size\":10,\"solidity\":0.2}},\"type\":\"barpolar\"}],\"pie\":[{\"automargin\":true,\"type\":\"pie\"}]},\"layout\":{\"autotypenumbers\":\"strict\",\"colorway\":[\"#636efa\",\"#EF553B\",\"#00cc96\",\"#ab63fa\",\"#FFA15A\",\"#19d3f3\",\"#FF6692\",\"#B6E880\",\"#FF97FF\",\"#FECB52\"],\"font\":{\"color\":\"#2a3f5f\"},\"hovermode\":\"closest\",\"hoverlabel\":{\"align\":\"left\"},\"paper_bgcolor\":\"white\",\"plot_bgcolor\":\"#E5ECF6\",\"polar\":{\"bgcolor\":\"#E5ECF6\",\"angularaxis\":{\"gridcolor\":\"white\",\"linecolor\":\"white\",\"ticks\":\"\"},\"radialaxis\":{\"gridcolor\":\"white\",\"linecolor\":\"white\",\"ticks\":\"\"}},\"ternary\":{\"bgcolor\":\"#E5ECF6\",\"aaxis\":{\"gridcolor\":\"white\",\"linecolor\":\"white\",\"ticks\":\"\"},\"baxis\":{\"gridcolor\":\"white\",\"linecolor\":\"white\",\"ticks\":\"\"},\"caxis\":{\"gridcolor\":\"white\",\"linecolor\":\"white\",\"ticks\":\"\"}},\"coloraxis\":{\"colorbar\":{\"outlinewidth\":0,\"ticks\":\"\"}},\"colorscale\":{\"sequential\":[[0.0,\"#0d0887\"],[0.1111111111111111,\"#46039f\"],[0.2222222222222222,\"#7201a8\"],[0.3333333333333333,\"#9c179e\"],[0.4444444444444444,\"#bd3786\"],[0.5555555555555556,\"#d8576b\"],[0.6666666666666666,\"#ed7953\"],[0.7777777777777778,\"#fb9f3a\"],[0.8888888888888888,\"#fdca26\"],[1.0,\"#f0f921\"]],\"sequentialminus\":[[0.0,\"#0d0887\"],[0.1111111111111111,\"#46039f\"],[0.2222222222222222,\"#7201a8\"],[0.3333333333333333,\"#9c179e\"],[0.4444444444444444,\"#bd3786\"],[0.5555555555555556,\"#d8576b\"],[0.6666666666666666,\"#ed7953\"],[0.7777777777777778,\"#fb9f3a\"],[0.8888888888888888,\"#fdca26\"],[1.0,\"#f0f921\"]],\"diverging\":[[0,\"#8e0152\"],[0.1,\"#c51b7d\"],[0.2,\"#de77ae\"],[0.3,\"#f1b6da\"],[0.4,\"#fde0ef\"],[0.5,\"#f7f7f7\"],[0.6,\"#e6f5d0\"],[0.7,\"#b8e186\"],[0.8,\"#7fbc41\"],[0.9,\"#4d9221\"],[1,\"#276419\"]]},\"xaxis\":{\"gridcolor\":\"white\",\"linecolor\":\"white\",\"ticks\":\"\",\"title\":{\"standoff\":15},\"zerolinecolor\":\"white\",\"automargin\":true,\"zerolinewidth\":2},\"yaxis\":{\"gridcolor\":\"white\",\"linecolor\":\"white\",\"ticks\":\"\",\"title\":{\"standoff\":15},\"zerolinecolor\":\"white\",\"automargin\":true,\"zerolinewidth\":2},\"scene\":{\"xaxis\":{\"backgroundcolor\":\"#E5ECF6\",\"gridcolor\":\"white\",\"linecolor\":\"white\",\"showbackground\":true,\"ticks\":\"\",\"zerolinecolor\":\"white\",\"gridwidth\":2},\"yaxis\":{\"backgroundcolor\":\"#E5ECF6\",\"gridcolor\":\"white\",\"linecolor\":\"white\",\"showbackground\":true,\"ticks\":\"\",\"zerolinecolor\":\"white\",\"gridwidth\":2},\"zaxis\":{\"backgroundcolor\":\"#E5ECF6\",\"gridcolor\":\"white\",\"linecolor\":\"white\",\"showbackground\":true,\"ticks\":\"\",\"zerolinecolor\":\"white\",\"gridwidth\":2}},\"shapedefaults\":{\"line\":{\"color\":\"#2a3f5f\"}},\"annotationdefaults\":{\"arrowcolor\":\"#2a3f5f\",\"arrowhead\":0,\"arrowwidth\":1},\"geo\":{\"bgcolor\":\"white\",\"landcolor\":\"#E5ECF6\",\"subunitcolor\":\"white\",\"showland\":true,\"showlakes\":true,\"lakecolor\":\"white\"},\"title\":{\"x\":0.05},\"mapbox\":{\"style\":\"light\"}}},\"xaxis\":{\"anchor\":\"y\",\"domain\":[0.0,1.0],\"title\":{\"text\":\"principal_component_1\"}},\"yaxis\":{\"anchor\":\"x\",\"domain\":[0.0,1.0],\"title\":{\"text\":\"principal_component_2\"}},\"legend\":{\"title\":{\"text\":\"artist\"},\"tracegroupgap\":0},\"margin\":{\"t\":20,\"l\":20,\"r\":20,\"b\":20},\"height\":1000,\"width\":2000,\"paper_bgcolor\":\"LightSteelBlue\"},                        {\"responsive\": true}                    ).then(function(){\n",
              "                            \n",
              "var gd = document.getElementById('c3d69b2e-9710-45bf-a6a1-df84f988d7d7');\n",
              "var x = new MutationObserver(function (mutations, observer) {{\n",
              "        var display = window.getComputedStyle(gd).display;\n",
              "        if (!display || display === 'none') {{\n",
              "            console.log([gd, 'removed!']);\n",
              "            Plotly.purge(gd);\n",
              "            observer.disconnect();\n",
              "        }}\n",
              "}});\n",
              "\n",
              "// Listen for the removal of the full notebook cells\n",
              "var notebookContainer = gd.closest('#notebook-container');\n",
              "if (notebookContainer) {{\n",
              "    x.observe(notebookContainer, {childList: true});\n",
              "}}\n",
              "\n",
              "// Listen for the clearing of the current output cell\n",
              "var outputEl = gd.closest('.output');\n",
              "if (outputEl) {{\n",
              "    x.observe(outputEl, {childList: true});\n",
              "}}\n",
              "\n",
              "                        })                };                            </script>        </div>\n",
              "</body>\n",
              "</html>"
            ]
          },
          "metadata": {}
        }
      ]
    },
    {
      "cell_type": "code",
      "execution_count": 15,
      "id": "9a0d68ee-8800-4510-9eb0-36551c8c06bb",
      "metadata": {
        "id": "9a0d68ee-8800-4510-9eb0-36551c8c06bb",
        "outputId": "bcdb806d-37de-46e2-9878-3e41bee0e65c",
        "colab": {
          "base_uri": "https://localhost:8080/",
          "height": 1000
        }
      },
      "outputs": [
        {
          "output_type": "display_data",
          "data": {
            "text/html": [
              "<html>\n",
              "<head><meta charset=\"utf-8\" /></head>\n",
              "<body>\n",
              "    <div>            <script src=\"https://cdnjs.cloudflare.com/ajax/libs/mathjax/2.7.5/MathJax.js?config=TeX-AMS-MML_SVG\"></script><script type=\"text/javascript\">if (window.MathJax && window.MathJax.Hub && window.MathJax.Hub.Config) {window.MathJax.Hub.Config({SVG: {font: \"STIX-Web\"}});}</script>                <script type=\"text/javascript\">window.PlotlyConfig = {MathJaxConfig: 'local'};</script>\n",
              "        <script charset=\"utf-8\" src=\"https://cdn.plot.ly/plotly-2.35.2.min.js\"></script>                <div id=\"0d4c0691-6db8-4534-bf9f-ae2128fa6b2c\" class=\"plotly-graph-div\" style=\"height:1000px; width:2000px;\"></div>            <script type=\"text/javascript\">                                    window.PLOTLYENV=window.PLOTLYENV || {};                                    if (document.getElementById(\"0d4c0691-6db8-4534-bf9f-ae2128fa6b2c\")) {                    Plotly.newPlot(                        \"0d4c0691-6db8-4534-bf9f-ae2128fa6b2c\",                        [{\"hovertemplate\":\"artist=2R\\u003cbr\\u003eprincipal_component_1=%{x}\\u003cbr\\u003eprincipal_component_2=%{y}\\u003cbr\\u003eprincipal_component_3=%{z}\\u003cextra\\u003e\\u003c\\u002fextra\\u003e\",\"legendgroup\":\"2R\",\"marker\":{\"color\":\"#636efa\",\"symbol\":\"circle\"},\"mode\":\"markers\",\"name\":\"2R\",\"scene\":\"scene\",\"showlegend\":true,\"x\":[2.4122259533069745],\"y\":[-0.8853362908953417],\"z\":[0.6603413633612397],\"type\":\"scatter3d\"},{\"hovertemplate\":\"artist=36\\u003cbr\\u003eprincipal_component_1=%{x}\\u003cbr\\u003eprincipal_component_2=%{y}\\u003cbr\\u003eprincipal_component_3=%{z}\\u003cextra\\u003e\\u003c\\u002fextra\\u003e\",\"legendgroup\":\"36\",\"marker\":{\"color\":\"#EF553B\",\"symbol\":\"circle\"},\"mode\":\"markers\",\"name\":\"36\",\"scene\":\"scene\",\"showlegend\":true,\"x\":[-3.578548901023517,-3.4190405705581446,-2.1630266102233517,-3.3790369698371143,-3.638388542939599],\"y\":[1.3349325804742345,1.151696354398132,2.0539578623533044,1.3918050260614456,1.1428099163385703],\"z\":[-0.7570334953926102,-0.46972463370327494,-0.22378026881907986,-0.7130880593986674,0.13054135119332638],\"type\":\"scatter3d\"},{\"hovertemplate\":\"artist=77\\u003cbr\\u003eprincipal_component_1=%{x}\\u003cbr\\u003eprincipal_component_2=%{y}\\u003cbr\\u003eprincipal_component_3=%{z}\\u003cextra\\u003e\\u003c\\u002fextra\\u003e\",\"legendgroup\":\"77\",\"marker\":{\"color\":\"#00cc96\",\"symbol\":\"circle\"},\"mode\":\"markers\",\"name\":\"77\",\"scene\":\"scene\",\"showlegend\":true,\"x\":[1.2917288575742687],\"y\":[-0.7907530016511951],\"z\":[-0.5489055663639257],\"type\":\"scatter3d\"},{\"hovertemplate\":\"artist=84\\u003cbr\\u003eprincipal_component_1=%{x}\\u003cbr\\u003eprincipal_component_2=%{y}\\u003cbr\\u003eprincipal_component_3=%{z}\\u003cextra\\u003e\\u003c\\u002fextra\\u003e\",\"legendgroup\":\"84\",\"marker\":{\"color\":\"#ab63fa\",\"symbol\":\"circle\"},\"mode\":\"markers\",\"name\":\"84\",\"scene\":\"scene\",\"showlegend\":true,\"x\":[0.5571294228114642,0.6567489191443623,-0.6705498353498026,0.4126885975570502,0.13737537009748815,-0.025902972682298464,-0.07665389758318053,-0.9398354776926088],\"y\":[-0.6033967424283505,-1.1903509715082268,-1.3221957987394883,-0.17685687657502674,-1.046319023364557,-0.8437069575352395,-1.2550024677010994,-1.3485241602614364],\"z\":[-0.1741398600990898,0.49018023916389053,0.05219344648583747,0.40307990424488344,-0.033890511949137225,-0.3618792674413308,0.7886914339508967,-0.059064577217694564],\"type\":\"scatter3d\"},{\"hovertemplate\":\"artist=BT\\u003cbr\\u003eprincipal_component_1=%{x}\\u003cbr\\u003eprincipal_component_2=%{y}\\u003cbr\\u003eprincipal_component_3=%{z}\\u003cextra\\u003e\\u003c\\u002fextra\\u003e\",\"legendgroup\":\"BT\",\"marker\":{\"color\":\"#FFA15A\",\"symbol\":\"circle\"},\"mode\":\"markers\",\"name\":\"BT\",\"scene\":\"scene\",\"showlegend\":true,\"x\":[1.337189737369825,1.1244418339661924,1.4296664667036845,-0.7463148528707448,0.7601469924114637,1.2807832664047603,1.163217212557282,1.0262443997343498,1.024580066197818,0.4470942597253034,1.2494674994521775,1.2373526310527918,0.7337334947801677,0.16856296896331047],\"y\":[1.1861050528138548,-0.7719130539469263,2.079122415279268,0.28985721102821393,0.552517636345681,0.01904591477784706,0.7521799182703941,1.1584815396146257,1.0621417942009643,0.5308699081379862,-0.14376702362240912,-0.2671705768208978,1.018517158884193,0.35522112880614304],\"z\":[0.005900992532258453,0.14465388078277183,2.4866260783950636,-0.37569736480651267,-1.172324361865873,-0.8211705634631637,-0.41387343604214755,-1.2029447422699016,-0.5720954572123104,-0.28548619151666144,-0.7623900242725618,-0.9044541139111144,0.001871566626854837,-0.9495444183497699],\"type\":\"scatter3d\"},{\"hovertemplate\":\"artist=DZ\\u003cbr\\u003eprincipal_component_1=%{x}\\u003cbr\\u003eprincipal_component_2=%{y}\\u003cbr\\u003eprincipal_component_3=%{z}\\u003cextra\\u003e\\u003c\\u002fextra\\u003e\",\"legendgroup\":\"DZ\",\"marker\":{\"color\":\"#19d3f3\",\"symbol\":\"circle\"},\"mode\":\"markers\",\"name\":\"DZ\",\"scene\":\"scene\",\"showlegend\":true,\"x\":[1.6886639073764076,-0.5344240526184245,-0.13622865689776897,1.4116546446374025,1.5987322084006454,0.2268283292981148,0.26309923719028844,0.5301174808014752,0.3789576619292046,0.5873078694732822,1.4343508591270686],\"y\":[1.0916410821346307,-0.5814265981873065,0.20236992944225785,0.7675532200747424,-0.7109957689279558,-1.0035381073415133,0.6790687463985552,1.218251888591313,0.26606670371078234,0.3736850640423457,-0.23453336916769593],\"z\":[2.8916093524251445,-0.306454403987468,-0.1974122351061236,-0.6831047779021908,-0.621110144350411,-0.7726046629230761,-0.7816224395648499,-0.405958409857924,-0.39602663299804464,-1.1102039230154683,0.25555129972183344],\"type\":\"scatter3d\"},{\"hovertemplate\":\"artist=IU\\u003cbr\\u003eprincipal_component_1=%{x}\\u003cbr\\u003eprincipal_component_2=%{y}\\u003cbr\\u003eprincipal_component_3=%{z}\\u003cextra\\u003e\\u003c\\u002fextra\\u003e\",\"legendgroup\":\"IU\",\"marker\":{\"color\":\"#FF6692\",\"symbol\":\"circle\"},\"mode\":\"markers\",\"name\":\"IU\",\"scene\":\"scene\",\"showlegend\":true,\"x\":[-1.445711449295606,-0.5753858570331029,1.2405207176445208,-1.2564735326588279,-0.6292108771541214,1.1425550490895353,0.4474605051171021,-0.26071795171876644,-0.913780510430368,-1.7058600283181051,1.0332955182822177,-0.22110080738612703,1.6286739070574314,1.4710111096626637],\"y\":[-0.8176955728922917,0.15520057443710134,-0.6510566099136652,-1.0735520868633914,-0.05045342028644484,-1.7904185044107859,-0.905257952062285,-0.09356585129463402,-0.4140759564802859,0.07955266343437278,-0.2167250304753714,-0.05066165613408735,-1.3028162824880138,-0.3458613365284928],\"z\":[-0.14494183654401588,-0.7736736757665863,-0.5785858211065432,-0.05530475394260587,-0.5488382768794214,1.4686724159292228,0.9627289176937592,-0.20650265445761853,-0.34358758186095384,-0.18673726555518347,0.17306582830522646,-0.8460385889814352,-0.28362359746542604,-0.6156104918105625],\"type\":\"scatter3d\"},{\"hovertemplate\":\"artist=JJ\\u003cbr\\u003eprincipal_component_1=%{x}\\u003cbr\\u003eprincipal_component_2=%{y}\\u003cbr\\u003eprincipal_component_3=%{z}\\u003cextra\\u003e\\u003c\\u002fextra\\u003e\",\"legendgroup\":\"JJ\",\"marker\":{\"color\":\"#B6E880\",\"symbol\":\"circle\"},\"mode\":\"markers\",\"name\":\"JJ\",\"scene\":\"scene\",\"showlegend\":true,\"x\":[0.26729595037011905,-1.30272655779006,-2.8880729939669467],\"y\":[-0.7151259863363251,-0.7970364162494473,0.40532299497953317],\"z\":[-0.5925142448843044,0.5241541358266455,-0.4721845942832946],\"type\":\"scatter3d\"},{\"hovertemplate\":\"artist=JW\\u003cbr\\u003eprincipal_component_1=%{x}\\u003cbr\\u003eprincipal_component_2=%{y}\\u003cbr\\u003eprincipal_component_3=%{z}\\u003cextra\\u003e\\u003c\\u002fextra\\u003e\",\"legendgroup\":\"JW\",\"marker\":{\"color\":\"#FF97FF\",\"symbol\":\"circle\"},\"mode\":\"markers\",\"name\":\"JW\",\"scene\":\"scene\",\"showlegend\":true,\"x\":[1.6619501249883983,-0.0695723520692664,-0.6112333433610664,-0.7975404350047997,-0.1595812408144705],\"y\":[-0.29179630907471443,-0.6347656391926622,-0.6765716529926289,-0.09944517380170381,-0.21307093305107],\"z\":[0.7315412038096014,-0.724995908172768,-0.34587431264331747,0.09927844751143855,0.7093814677387981],\"type\":\"scatter3d\"},{\"hovertemplate\":\"artist=KK\\u003cbr\\u003eprincipal_component_1=%{x}\\u003cbr\\u003eprincipal_component_2=%{y}\\u003cbr\\u003eprincipal_component_3=%{z}\\u003cextra\\u003e\\u003c\\u002fextra\\u003e\",\"legendgroup\":\"KK\",\"marker\":{\"color\":\"#FECB52\",\"symbol\":\"circle\"},\"mode\":\"markers\",\"name\":\"KK\",\"scene\":\"scene\",\"showlegend\":true,\"x\":[0.1788481781590277,-1.2776092411979683,-1.5652499303831984,0.776609106338164,1.5083651297943077,-0.7011174509397264,-1.2316068152449748,1.4373270047541244,0.45354496386739573,-1.085778361045281],\"y\":[-0.2749777030461621,1.00250683651075,0.07111299634000434,-0.9252435699474414,0.8388107662599817,0.5739402231575358,-0.5515101389502022,-0.21160987126736241,-1.4561663513174163,0.2907585085392467],\"z\":[-0.6708799103999539,-0.21108088507726172,-0.7482468645344933,-0.8000015342404506,0.5375378630637322,-0.8007283078801599,-0.32239825254566623,-0.5820475356016774,0.44510389217521357,-0.49122733977982],\"type\":\"scatter3d\"},{\"hovertemplate\":\"artist=M6\\u003cbr\\u003eprincipal_component_1=%{x}\\u003cbr\\u003eprincipal_component_2=%{y}\\u003cbr\\u003eprincipal_component_3=%{z}\\u003cextra\\u003e\\u003c\\u002fextra\\u003e\",\"legendgroup\":\"M6\",\"marker\":{\"color\":\"#636efa\",\"symbol\":\"circle\"},\"mode\":\"markers\",\"name\":\"M6\",\"scene\":\"scene\",\"showlegend\":true,\"x\":[1.6686628962854209,1.378324007640498],\"y\":[-0.9749231373539275,-0.7773844210984294],\"z\":[-0.3209829256734379,-0.40534979555662315],\"type\":\"scatter3d\"},{\"hovertemplate\":\"artist=PG\\u003cbr\\u003eprincipal_component_1=%{x}\\u003cbr\\u003eprincipal_component_2=%{y}\\u003cbr\\u003eprincipal_component_3=%{z}\\u003cextra\\u003e\\u003c\\u002fextra\\u003e\",\"legendgroup\":\"PG\",\"marker\":{\"color\":\"#EF553B\",\"symbol\":\"circle\"},\"mode\":\"markers\",\"name\":\"PG\",\"scene\":\"scene\",\"showlegend\":true,\"x\":[-0.49327547733063887],\"y\":[0.6430438351406208],\"z\":[-0.6874974707471854],\"type\":\"scatter3d\"},{\"hovertemplate\":\"artist=TC\\u003cbr\\u003eprincipal_component_1=%{x}\\u003cbr\\u003eprincipal_component_2=%{y}\\u003cbr\\u003eprincipal_component_3=%{z}\\u003cextra\\u003e\\u003c\\u002fextra\\u003e\",\"legendgroup\":\"TC\",\"marker\":{\"color\":\"#00cc96\",\"symbol\":\"circle\"},\"mode\":\"markers\",\"name\":\"TC\",\"scene\":\"scene\",\"showlegend\":true,\"x\":[1.455986953008968,0.22494247594866779,1.093405290750195,0.7096181451876891,1.8202064244917766,0.8092886701558841],\"y\":[1.4237296378138957,0.555483393944378,-1.1424330129930336,-0.6813447383507448,-0.14685049808782483,0.9927197286739149],\"z\":[2.317042057510973,-1.2823492361773376,-0.5236678547498563,0.0708262249574764,-0.6517544605768253,-1.100804678718465],\"type\":\"scatter3d\"},{\"hovertemplate\":\"artist=YG\\u003cbr\\u003eprincipal_component_1=%{x}\\u003cbr\\u003eprincipal_component_2=%{y}\\u003cbr\\u003eprincipal_component_3=%{z}\\u003cextra\\u003e\\u003c\\u002fextra\\u003e\",\"legendgroup\":\"YG\",\"marker\":{\"color\":\"#ab63fa\",\"symbol\":\"circle\"},\"mode\":\"markers\",\"name\":\"YG\",\"scene\":\"scene\",\"showlegend\":true,\"x\":[0.11285674992972147],\"y\":[-0.6533624979019901],\"z\":[-0.8068723183407349],\"type\":\"scatter3d\"},{\"hovertemplate\":\"artist=!!!\\u003cbr\\u003eprincipal_component_1=%{x}\\u003cbr\\u003eprincipal_component_2=%{y}\\u003cbr\\u003eprincipal_component_3=%{z}\\u003cextra\\u003e\\u003c\\u002fextra\\u003e\",\"legendgroup\":\"!!!\",\"marker\":{\"color\":\"#FFA15A\",\"symbol\":\"circle\"},\"mode\":\"markers\",\"name\":\"!!!\",\"scene\":\"scene\",\"showlegend\":true,\"x\":[1.7516916440007724,1.7426853617909024,1.432260342951181],\"y\":[-0.745374018531729,-1.2087259367415437,-0.9397301622615919],\"z\":[0.9061817638912999,-0.6939753158201707,-0.4708356269968106],\"type\":\"scatter3d\"},{\"hovertemplate\":\"artist=108\\u003cbr\\u003eprincipal_component_1=%{x}\\u003cbr\\u003eprincipal_component_2=%{y}\\u003cbr\\u003eprincipal_component_3=%{z}\\u003cextra\\u003e\\u003c\\u002fextra\\u003e\",\"legendgroup\":\"108\",\"marker\":{\"color\":\"#19d3f3\",\"symbol\":\"circle\"},\"mode\":\"markers\",\"name\":\"108\",\"scene\":\"scene\",\"showlegend\":true,\"x\":[0.7939001122507242],\"y\":[2.197303229326588],\"z\":[-1.220597927956752],\"type\":\"scatter3d\"},{\"hovertemplate\":\"artist=113\\u003cbr\\u003eprincipal_component_1=%{x}\\u003cbr\\u003eprincipal_component_2=%{y}\\u003cbr\\u003eprincipal_component_3=%{z}\\u003cextra\\u003e\\u003c\\u002fextra\\u003e\",\"legendgroup\":\"113\",\"marker\":{\"color\":\"#FF6692\",\"symbol\":\"circle\"},\"mode\":\"markers\",\"name\":\"113\",\"scene\":\"scene\",\"showlegend\":true,\"x\":[1.8913639859041567,1.127318678798936],\"y\":[-1.21612384167666,-1.0625731755131256],\"z\":[-0.6735642292408579,-0.21437893490266502],\"type\":\"scatter3d\"},{\"hovertemplate\":\"artist=16B\\u003cbr\\u003eprincipal_component_1=%{x}\\u003cbr\\u003eprincipal_component_2=%{y}\\u003cbr\\u003eprincipal_component_3=%{z}\\u003cextra\\u003e\\u003c\\u002fextra\\u003e\",\"legendgroup\":\"16B\",\"marker\":{\"color\":\"#B6E880\",\"symbol\":\"circle\"},\"mode\":\"markers\",\"name\":\"16B\",\"scene\":\"scene\",\"showlegend\":true,\"x\":[1.0978196484290936],\"y\":[1.1281990990127424],\"z\":[1.6905965302831745],\"type\":\"scatter3d\"},{\"hovertemplate\":\"artist=2PM\\u003cbr\\u003eprincipal_component_1=%{x}\\u003cbr\\u003eprincipal_component_2=%{y}\\u003cbr\\u003eprincipal_component_3=%{z}\\u003cextra\\u003e\\u003c\\u002fextra\\u003e\",\"legendgroup\":\"2PM\",\"marker\":{\"color\":\"#FF97FF\",\"symbol\":\"circle\"},\"mode\":\"markers\",\"name\":\"2PM\",\"scene\":\"scene\",\"showlegend\":true,\"x\":[1.3687500963493504,2.386471388288543,2.12553632512127,1.11306672382762,1.5836314543574286,1.322138258786074,1.2238978608438678],\"y\":[-0.8909562225666363,-1.5494705413250753,-1.5498169829588722,-0.6864996452954788,-0.28643625635858777,0.12250324786771871,-0.46963839270476604],\"z\":[-0.6818002408034872,-0.3819281284518611,-0.44317518799876976,-0.4838547617499356,-0.6019508770208049,0.9484118527392309,-0.5961916898265327],\"type\":\"scatter3d\"},{\"hovertemplate\":\"artist=2am\\u003cbr\\u003eprincipal_component_1=%{x}\\u003cbr\\u003eprincipal_component_2=%{y}\\u003cbr\\u003eprincipal_component_3=%{z}\\u003cextra\\u003e\\u003c\\u002fextra\\u003e\",\"legendgroup\":\"2am\",\"marker\":{\"color\":\"#FECB52\",\"symbol\":\"circle\"},\"mode\":\"markers\",\"name\":\"2am\",\"scene\":\"scene\",\"showlegend\":true,\"x\":[2.1613608429742115,1.505424135650829,-1.3505236122870137,2.119866754369123],\"y\":[0.5248116027970736,-1.2040998889099577,-0.54149052193987,0.2767422635210365],\"z\":[3.0750433731273246,0.08634572293363046,-0.25738386993971946,2.477476564790517],\"type\":\"scatter3d\"}],                        {\"template\":{\"data\":{\"histogram2dcontour\":[{\"type\":\"histogram2dcontour\",\"colorbar\":{\"outlinewidth\":0,\"ticks\":\"\"},\"colorscale\":[[0.0,\"#0d0887\"],[0.1111111111111111,\"#46039f\"],[0.2222222222222222,\"#7201a8\"],[0.3333333333333333,\"#9c179e\"],[0.4444444444444444,\"#bd3786\"],[0.5555555555555556,\"#d8576b\"],[0.6666666666666666,\"#ed7953\"],[0.7777777777777778,\"#fb9f3a\"],[0.8888888888888888,\"#fdca26\"],[1.0,\"#f0f921\"]]}],\"choropleth\":[{\"type\":\"choropleth\",\"colorbar\":{\"outlinewidth\":0,\"ticks\":\"\"}}],\"histogram2d\":[{\"type\":\"histogram2d\",\"colorbar\":{\"outlinewidth\":0,\"ticks\":\"\"},\"colorscale\":[[0.0,\"#0d0887\"],[0.1111111111111111,\"#46039f\"],[0.2222222222222222,\"#7201a8\"],[0.3333333333333333,\"#9c179e\"],[0.4444444444444444,\"#bd3786\"],[0.5555555555555556,\"#d8576b\"],[0.6666666666666666,\"#ed7953\"],[0.7777777777777778,\"#fb9f3a\"],[0.8888888888888888,\"#fdca26\"],[1.0,\"#f0f921\"]]}],\"heatmap\":[{\"type\":\"heatmap\",\"colorbar\":{\"outlinewidth\":0,\"ticks\":\"\"},\"colorscale\":[[0.0,\"#0d0887\"],[0.1111111111111111,\"#46039f\"],[0.2222222222222222,\"#7201a8\"],[0.3333333333333333,\"#9c179e\"],[0.4444444444444444,\"#bd3786\"],[0.5555555555555556,\"#d8576b\"],[0.6666666666666666,\"#ed7953\"],[0.7777777777777778,\"#fb9f3a\"],[0.8888888888888888,\"#fdca26\"],[1.0,\"#f0f921\"]]}],\"heatmapgl\":[{\"type\":\"heatmapgl\",\"colorbar\":{\"outlinewidth\":0,\"ticks\":\"\"},\"colorscale\":[[0.0,\"#0d0887\"],[0.1111111111111111,\"#46039f\"],[0.2222222222222222,\"#7201a8\"],[0.3333333333333333,\"#9c179e\"],[0.4444444444444444,\"#bd3786\"],[0.5555555555555556,\"#d8576b\"],[0.6666666666666666,\"#ed7953\"],[0.7777777777777778,\"#fb9f3a\"],[0.8888888888888888,\"#fdca26\"],[1.0,\"#f0f921\"]]}],\"contourcarpet\":[{\"type\":\"contourcarpet\",\"colorbar\":{\"outlinewidth\":0,\"ticks\":\"\"}}],\"contour\":[{\"type\":\"contour\",\"colorbar\":{\"outlinewidth\":0,\"ticks\":\"\"},\"colorscale\":[[0.0,\"#0d0887\"],[0.1111111111111111,\"#46039f\"],[0.2222222222222222,\"#7201a8\"],[0.3333333333333333,\"#9c179e\"],[0.4444444444444444,\"#bd3786\"],[0.5555555555555556,\"#d8576b\"],[0.6666666666666666,\"#ed7953\"],[0.7777777777777778,\"#fb9f3a\"],[0.8888888888888888,\"#fdca26\"],[1.0,\"#f0f921\"]]}],\"surface\":[{\"type\":\"surface\",\"colorbar\":{\"outlinewidth\":0,\"ticks\":\"\"},\"colorscale\":[[0.0,\"#0d0887\"],[0.1111111111111111,\"#46039f\"],[0.2222222222222222,\"#7201a8\"],[0.3333333333333333,\"#9c179e\"],[0.4444444444444444,\"#bd3786\"],[0.5555555555555556,\"#d8576b\"],[0.6666666666666666,\"#ed7953\"],[0.7777777777777778,\"#fb9f3a\"],[0.8888888888888888,\"#fdca26\"],[1.0,\"#f0f921\"]]}],\"mesh3d\":[{\"type\":\"mesh3d\",\"colorbar\":{\"outlinewidth\":0,\"ticks\":\"\"}}],\"scatter\":[{\"fillpattern\":{\"fillmode\":\"overlay\",\"size\":10,\"solidity\":0.2},\"type\":\"scatter\"}],\"parcoords\":[{\"type\":\"parcoords\",\"line\":{\"colorbar\":{\"outlinewidth\":0,\"ticks\":\"\"}}}],\"scatterpolargl\":[{\"type\":\"scatterpolargl\",\"marker\":{\"colorbar\":{\"outlinewidth\":0,\"ticks\":\"\"}}}],\"bar\":[{\"error_x\":{\"color\":\"#2a3f5f\"},\"error_y\":{\"color\":\"#2a3f5f\"},\"marker\":{\"line\":{\"color\":\"#E5ECF6\",\"width\":0.5},\"pattern\":{\"fillmode\":\"overlay\",\"size\":10,\"solidity\":0.2}},\"type\":\"bar\"}],\"scattergeo\":[{\"type\":\"scattergeo\",\"marker\":{\"colorbar\":{\"outlinewidth\":0,\"ticks\":\"\"}}}],\"scatterpolar\":[{\"type\":\"scatterpolar\",\"marker\":{\"colorbar\":{\"outlinewidth\":0,\"ticks\":\"\"}}}],\"histogram\":[{\"marker\":{\"pattern\":{\"fillmode\":\"overlay\",\"size\":10,\"solidity\":0.2}},\"type\":\"histogram\"}],\"scattergl\":[{\"type\":\"scattergl\",\"marker\":{\"colorbar\":{\"outlinewidth\":0,\"ticks\":\"\"}}}],\"scatter3d\":[{\"type\":\"scatter3d\",\"line\":{\"colorbar\":{\"outlinewidth\":0,\"ticks\":\"\"}},\"marker\":{\"colorbar\":{\"outlinewidth\":0,\"ticks\":\"\"}}}],\"scattermapbox\":[{\"type\":\"scattermapbox\",\"marker\":{\"colorbar\":{\"outlinewidth\":0,\"ticks\":\"\"}}}],\"scatterternary\":[{\"type\":\"scatterternary\",\"marker\":{\"colorbar\":{\"outlinewidth\":0,\"ticks\":\"\"}}}],\"scattercarpet\":[{\"type\":\"scattercarpet\",\"marker\":{\"colorbar\":{\"outlinewidth\":0,\"ticks\":\"\"}}}],\"carpet\":[{\"aaxis\":{\"endlinecolor\":\"#2a3f5f\",\"gridcolor\":\"white\",\"linecolor\":\"white\",\"minorgridcolor\":\"white\",\"startlinecolor\":\"#2a3f5f\"},\"baxis\":{\"endlinecolor\":\"#2a3f5f\",\"gridcolor\":\"white\",\"linecolor\":\"white\",\"minorgridcolor\":\"white\",\"startlinecolor\":\"#2a3f5f\"},\"type\":\"carpet\"}],\"table\":[{\"cells\":{\"fill\":{\"color\":\"#EBF0F8\"},\"line\":{\"color\":\"white\"}},\"header\":{\"fill\":{\"color\":\"#C8D4E3\"},\"line\":{\"color\":\"white\"}},\"type\":\"table\"}],\"barpolar\":[{\"marker\":{\"line\":{\"color\":\"#E5ECF6\",\"width\":0.5},\"pattern\":{\"fillmode\":\"overlay\",\"size\":10,\"solidity\":0.2}},\"type\":\"barpolar\"}],\"pie\":[{\"automargin\":true,\"type\":\"pie\"}]},\"layout\":{\"autotypenumbers\":\"strict\",\"colorway\":[\"#636efa\",\"#EF553B\",\"#00cc96\",\"#ab63fa\",\"#FFA15A\",\"#19d3f3\",\"#FF6692\",\"#B6E880\",\"#FF97FF\",\"#FECB52\"],\"font\":{\"color\":\"#2a3f5f\"},\"hovermode\":\"closest\",\"hoverlabel\":{\"align\":\"left\"},\"paper_bgcolor\":\"white\",\"plot_bgcolor\":\"#E5ECF6\",\"polar\":{\"bgcolor\":\"#E5ECF6\",\"angularaxis\":{\"gridcolor\":\"white\",\"linecolor\":\"white\",\"ticks\":\"\"},\"radialaxis\":{\"gridcolor\":\"white\",\"linecolor\":\"white\",\"ticks\":\"\"}},\"ternary\":{\"bgcolor\":\"#E5ECF6\",\"aaxis\":{\"gridcolor\":\"white\",\"linecolor\":\"white\",\"ticks\":\"\"},\"baxis\":{\"gridcolor\":\"white\",\"linecolor\":\"white\",\"ticks\":\"\"},\"caxis\":{\"gridcolor\":\"white\",\"linecolor\":\"white\",\"ticks\":\"\"}},\"coloraxis\":{\"colorbar\":{\"outlinewidth\":0,\"ticks\":\"\"}},\"colorscale\":{\"sequential\":[[0.0,\"#0d0887\"],[0.1111111111111111,\"#46039f\"],[0.2222222222222222,\"#7201a8\"],[0.3333333333333333,\"#9c179e\"],[0.4444444444444444,\"#bd3786\"],[0.5555555555555556,\"#d8576b\"],[0.6666666666666666,\"#ed7953\"],[0.7777777777777778,\"#fb9f3a\"],[0.8888888888888888,\"#fdca26\"],[1.0,\"#f0f921\"]],\"sequentialminus\":[[0.0,\"#0d0887\"],[0.1111111111111111,\"#46039f\"],[0.2222222222222222,\"#7201a8\"],[0.3333333333333333,\"#9c179e\"],[0.4444444444444444,\"#bd3786\"],[0.5555555555555556,\"#d8576b\"],[0.6666666666666666,\"#ed7953\"],[0.7777777777777778,\"#fb9f3a\"],[0.8888888888888888,\"#fdca26\"],[1.0,\"#f0f921\"]],\"diverging\":[[0,\"#8e0152\"],[0.1,\"#c51b7d\"],[0.2,\"#de77ae\"],[0.3,\"#f1b6da\"],[0.4,\"#fde0ef\"],[0.5,\"#f7f7f7\"],[0.6,\"#e6f5d0\"],[0.7,\"#b8e186\"],[0.8,\"#7fbc41\"],[0.9,\"#4d9221\"],[1,\"#276419\"]]},\"xaxis\":{\"gridcolor\":\"white\",\"linecolor\":\"white\",\"ticks\":\"\",\"title\":{\"standoff\":15},\"zerolinecolor\":\"white\",\"automargin\":true,\"zerolinewidth\":2},\"yaxis\":{\"gridcolor\":\"white\",\"linecolor\":\"white\",\"ticks\":\"\",\"title\":{\"standoff\":15},\"zerolinecolor\":\"white\",\"automargin\":true,\"zerolinewidth\":2},\"scene\":{\"xaxis\":{\"backgroundcolor\":\"#E5ECF6\",\"gridcolor\":\"white\",\"linecolor\":\"white\",\"showbackground\":true,\"ticks\":\"\",\"zerolinecolor\":\"white\",\"gridwidth\":2},\"yaxis\":{\"backgroundcolor\":\"#E5ECF6\",\"gridcolor\":\"white\",\"linecolor\":\"white\",\"showbackground\":true,\"ticks\":\"\",\"zerolinecolor\":\"white\",\"gridwidth\":2},\"zaxis\":{\"backgroundcolor\":\"#E5ECF6\",\"gridcolor\":\"white\",\"linecolor\":\"white\",\"showbackground\":true,\"ticks\":\"\",\"zerolinecolor\":\"white\",\"gridwidth\":2}},\"shapedefaults\":{\"line\":{\"color\":\"#2a3f5f\"}},\"annotationdefaults\":{\"arrowcolor\":\"#2a3f5f\",\"arrowhead\":0,\"arrowwidth\":1},\"geo\":{\"bgcolor\":\"white\",\"landcolor\":\"#E5ECF6\",\"subunitcolor\":\"white\",\"showland\":true,\"showlakes\":true,\"lakecolor\":\"white\"},\"title\":{\"x\":0.05},\"mapbox\":{\"style\":\"light\"}}},\"scene\":{\"domain\":{\"x\":[0.0,1.0],\"y\":[0.0,1.0]},\"xaxis\":{\"title\":{\"text\":\"principal_component_1\"}},\"yaxis\":{\"title\":{\"text\":\"principal_component_2\"}},\"zaxis\":{\"title\":{\"text\":\"principal_component_3\"}}},\"legend\":{\"title\":{\"text\":\"artist\"},\"tracegroupgap\":0},\"margin\":{\"t\":20,\"l\":20,\"r\":20,\"b\":20},\"height\":1000,\"width\":2000,\"paper_bgcolor\":\"LightSteelBlue\"},                        {\"responsive\": true}                    ).then(function(){\n",
              "                            \n",
              "var gd = document.getElementById('0d4c0691-6db8-4534-bf9f-ae2128fa6b2c');\n",
              "var x = new MutationObserver(function (mutations, observer) {{\n",
              "        var display = window.getComputedStyle(gd).display;\n",
              "        if (!display || display === 'none') {{\n",
              "            console.log([gd, 'removed!']);\n",
              "            Plotly.purge(gd);\n",
              "            observer.disconnect();\n",
              "        }}\n",
              "}});\n",
              "\n",
              "// Listen for the removal of the full notebook cells\n",
              "var notebookContainer = gd.closest('#notebook-container');\n",
              "if (notebookContainer) {{\n",
              "    x.observe(notebookContainer, {childList: true});\n",
              "}}\n",
              "\n",
              "// Listen for the clearing of the current output cell\n",
              "var outputEl = gd.closest('.output');\n",
              "if (outputEl) {{\n",
              "    x.observe(outputEl, {childList: true});\n",
              "}}\n",
              "\n",
              "                        })                };                            </script>        </div>\n",
              "</body>\n",
              "</html>"
            ]
          },
          "metadata": {}
        }
      ],
      "source": [
        "import plotly.express as px\n",
        "fig = px.scatter_3d(pca_3_spotify, x=\"principal_component_1\", y=\"principal_component_2\", z=\"principal_component_3\", color=\"artist\",\n",
        "                  hover_data=['principal_component_1'], width=2000, height=1000)\n",
        "\n",
        "fig.update_layout(\n",
        "    margin=dict(l=20, r=20, t=20, b=20),\n",
        "    paper_bgcolor=\"LightSteelBlue\",\n",
        ")\n",
        "\n",
        "fig.show()"
      ]
    }
  ],
  "metadata": {
    "kernelspec": {
      "display_name": "Python (Local)",
      "language": "python",
      "name": "local-base"
    },
    "language_info": {
      "codemirror_mode": {
        "name": "ipython",
        "version": 3
      },
      "file_extension": ".py",
      "mimetype": "text/x-python",
      "name": "python",
      "nbconvert_exporter": "python",
      "pygments_lexer": "ipython3",
      "version": "3.7.12"
    },
    "colab": {
      "provenance": []
    }
  },
  "nbformat": 4,
  "nbformat_minor": 5
}