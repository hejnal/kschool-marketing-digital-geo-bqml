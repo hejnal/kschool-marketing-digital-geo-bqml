{
 "cells": [
  {
   "cell_type": "markdown",
   "metadata": {},
   "source": [
    "### Instructions\n",
    "\n",
    "1) Ingest geo maps data to BigQuery\n",
    "\n",
    "2) View the main cities from where users access the ticket sales page\n",
    "\n",
    "3) Calculate average distance for each GA session to all concert halls: [Barcelona, Madrid, Bilbao, Murcia, Valencia]\n",
    "\n",
    "4) Train the model without/with new feature and compare the results"
   ]
  },
  {
   "cell_type": "code",
   "execution_count": null,
   "metadata": {
    "vscode": {
     "languageId": "sql"
    }
   },
   "outputs": [],
   "source": [
    "# input tables:\n",
    "#   ga_events_data\n",
    "#   geo_maps\n",
    "#   concert_venues\n",
    "\n",
    "# Produce a query with the following outputs:\n",
    "#\n",
    "#    event_city,\n",
    "#    ROUND(AVG(distance_km), 2) AS avg_distance_km,\n",
    "#    ROUND(MIN(distance_km), 2) AS min_distance_km,\n",
    "#    ROUND(MAX(distance_km), 2) AS max_distance_km,\n",
    "\n",
    "# consider the distances from each source city to all the cities where the concert venues are located (concert_venues table)\n",
    "\n",
    "# cities in geo_maps might be duplicated by name\n",
    "# hint: add the heuristic criteria (like size) to rank them first, e.g. ST_NUMPOINTS(geometry) - the more points, the larger the city\n",
    "\n",
    "# there might be cities outside of Spain (like Valencia in Venezuela), so bear in mind that the distance should not be more than some reasonable threshold e.g. 1000km. Use that to filter those records out.\n"
   ]
  },
  {
   "cell_type": "code",
   "execution_count": null,
   "metadata": {
    "vscode": {
     "languageId": "sql"
    }
   },
   "outputs": [],
   "source": [
    "WITH\n",
    "  ranked_cities AS (\n",
    "  SELECT\n",
    "    NAME AS city_name,\n",
    "    geometry,\n",
    "    RANK() OVER(PARTITION BY NAME ORDER BY ST_NUMPOINTS(geometry) DESC) AS rank\n",
    "  FROM\n",
    "    `<project_id>.city_maps.geo_maps`),\n",
    "  main_cities AS (\n",
    "  SELECT\n",
    "    LOWER(city_name) AS city_name,\n",
    "    geometry\n",
    "  FROM\n",
    "    ranked_cities\n",
    "  WHERE\n",
    "    rank = 1),\n",
    "  event_cities AS (\n",
    "  SELECT\n",
    "    DISTINCT LOWER(city) AS city\n",
    "  FROM\n",
    "    `<project_id>.web_analytics_eu.indie_label_events_data`),\n",
    "  concert_venues AS (\n",
    "  SELECT\n",
    "    LOWER(city_name) AS city,\n",
    "    geometry\n",
    "  FROM\n",
    "    `<project_id>.city_maps.concert_venues` ),\n",
    "  distance_from_venues AS (\n",
    "  SELECT\n",
    "    e.city AS event_city,\n",
    "    v.city AS venue_city,\n",
    "    ROUND(ST_DISTANCE(m.geometry,\n",
    "        v.geometry) / 1000, 2) AS distance_km\n",
    "  FROM\n",
    "    event_cities e\n",
    "  LEFT JOIN\n",
    "    main_cities m\n",
    "  ON\n",
    "    e.city = LOWER(m.city_name)\n",
    "  CROSS JOIN\n",
    "    concert_venues v ),\n",
    "  distance_statistics AS (\n",
    "  SELECT\n",
    "    event_city,\n",
    "    ROUND(AVG(distance_km), 2) AS avg_distance_km,\n",
    "    ROUND(MIN(distance_km), 2) AS min_distance_km,\n",
    "    ROUND(MAX(distance_km), 2) AS max_distance_km,\n",
    "    COUNT(*) num_connections,\n",
    "  FROM\n",
    "    distance_from_venues\n",
    "  WHERE\n",
    "    distance_km IS NOT NULL\n",
    "  GROUP BY\n",
    "    1)\n",
    "SELECT\n",
    "  *\n",
    "FROM\n",
    "  distance_statistics\n",
    "WHERE\n",
    "  min_distance_km < 1000\n",
    "ORDER BY\n",
    "  2 ASC;"
   ]
  },
  {
   "cell_type": "markdown",
   "metadata": {},
   "source": []
  }
 ],
 "metadata": {
  "interpreter": {
   "hash": "48c506925716e1edcf2f33146c3d7605b581a1581101eb95766efdb2267b09f7"
  },
  "kernelspec": {
   "display_name": "Python 3.8.13 64-bit ('3.8.13')",
   "language": "python",
   "name": "python3"
  },
  "language_info": {
   "codemirror_mode": {
    "name": "ipython",
    "version": 3
   },
   "file_extension": ".py",
   "mimetype": "text/x-python",
   "name": "python",
   "nbconvert_exporter": "python",
   "pygments_lexer": "ipython3",
   "version": "3.8.13"
  },
  "orig_nbformat": 4
 },
 "nbformat": 4,
 "nbformat_minor": 2
}
