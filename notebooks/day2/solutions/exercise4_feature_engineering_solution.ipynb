{
 "cells": [
  {
   "cell_type": "markdown",
   "metadata": {},
   "source": [
    "### Instructions\n",
    "\n",
    "Investigate the public dataset `bigquery-public-data.google_analytics_sample.ga_sessions_*` in order to select the most suitable features for a propensity model.\n",
    "\n",
    "Field definitions: https://support.google.com/analytics/answer/3437719?hl=en\n",
    "\n",
    "(Optional) Use Cloud Dataprep to understand data distributions (without running the Dataflow pipeline - it would cost more money)\n",
    "\n",
    "Use basic SQL operations UNNEST(), IFNULL(), COUNTIF() to get the most important features\n",
    "\n",
    "Start by selecting just one day (sharded table) - to avoid higher costs, e.g. _TABLE_SUFFIX = '20160801'\n",
    "\n",
    "`Hints`\n",
    "\n",
    "totals.newVisits = 1: user enters the web page for the first time\n",
    "\n",
    "eCommerceAction.action_type='2': add product to cart action\n",
    "\n",
    "eCommerceAction.action_type='3': checkout page\n",
    "\n",
    "totals.transactions: number of eCommerce transactions - sale\n",
    "\n",
    "fullvisitorid: random id of the user"
   ]
  },
  {
   "cell_type": "markdown",
   "metadata": {},
   "source": [
    "### Solution"
   ]
  },
  {
   "cell_type": "code",
   "execution_count": null,
   "metadata": {
    "vscode": {
     "languageId": "sql"
    }
   },
   "outputs": [],
   "source": [
    "SELECT\n",
    "  *\n",
    "FROM (\n",
    "  SELECT\n",
    "    PARSE_TIMESTAMP(\"%Y%m%d\", date) AS parsed_date,\n",
    "    fullVisitorId,\n",
    "    IFNULL(totals.bounces,\n",
    "      0) AS bounces,\n",
    "    IFNULL(totals.timeOnSite,\n",
    "      0) AS time_on_site,\n",
    "    totals.pageviews AS pageviews,\n",
    "    trafficSource.source,\n",
    "    trafficSource.medium,\n",
    "    channelGrouping,\n",
    "    device.isMobile,\n",
    "  IF\n",
    "    ((\n",
    "      SELECT\n",
    "        SUM(\n",
    "        IF\n",
    "          (eCommerceAction.action_type='3',\n",
    "            1,\n",
    "            0))\n",
    "      FROM\n",
    "        UNNEST(hits))>=1,\n",
    "      1,\n",
    "      0) AS add_to_cart,\n",
    "  IF\n",
    "    ((\n",
    "      SELECT\n",
    "        SUM(\n",
    "        IF\n",
    "          (eCommerceAction.action_type='2',\n",
    "            1,\n",
    "            0))\n",
    "      FROM\n",
    "        UNNEST(hits))>=1,\n",
    "      1,\n",
    "      0) AS product_detail_view,\n",
    "    IFNULL(geoNetwork.city,\n",
    "      \"\") AS city,\n",
    "    IFNULL(geoNetwork.country,\n",
    "      \"\") AS country\n",
    "  FROM\n",
    "    `bigquery-public-data.google_analytics_sample.ga_sessions_*` s\n",
    "  WHERE\n",
    "    totals.newVisits = 1\n",
    "    AND _TABLE_SUFFIX BETWEEN '20160801'\n",
    "    AND '20170801'\n",
    "    AND geoNetwork.country = \"United States\"\n",
    "JOIN (\n",
    "  SELECT\n",
    "    fullvisitorid,\n",
    "  IF\n",
    "    (COUNTIF(totals.transactions > 0\n",
    "        AND totals.newVisits IS NULL) > 0,\n",
    "      1,\n",
    "      0) AS will_buy_later\n",
    "  FROM\n",
    "    `bigquery-public-data.google_analytics_sample.ga_sessions_*`\n",
    "  GROUP BY\n",
    "    fullvisitorid)\n",
    "USING\n",
    "  (fullVisitorId);"
   ]
  }
 ],
 "metadata": {
  "interpreter": {
   "hash": "48c506925716e1edcf2f33146c3d7605b581a1581101eb95766efdb2267b09f7"
  },
  "kernelspec": {
   "display_name": "Python 3.8.13 64-bit ('3.8.13')",
   "language": "python",
   "name": "python3"
  },
  "language_info": {
   "codemirror_mode": {
    "name": "ipython",
    "version": 3
   },
   "file_extension": ".py",
   "mimetype": "text/x-python",
   "name": "python",
   "nbconvert_exporter": "python",
   "pygments_lexer": "ipython3",
   "version": "3.8.13"
  },
  "orig_nbformat": 4
 },
 "nbformat": 4,
 "nbformat_minor": 2
}
