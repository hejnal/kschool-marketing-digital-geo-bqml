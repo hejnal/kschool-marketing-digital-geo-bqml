{
 "cells": [
  {
   "cell_type": "markdown",
   "metadata": {},
   "source": [
    "### Instructions\n",
    "\n",
    "1) Upload Spotify dataset data to BQ\n",
    "Use basic BigQuery functions to understand data characteristics:\n",
    "_MIN(), MAX(), AVG(), STDDEV(), VARIANCE(), COUNT(), COUNTIF(), CORR(), APPROX_QUANTILES(), PERCENTILE_CONT()_\n",
    "\n",
    "2) (Optional) Apply a BQ script (loop function), to produce the results for all columns\n",
    "\n",
    "3) Create a dashboard in Datastudio with the results\n",
    "\n",
    "4) (Optional) Use Jupyter notebook and standard libraries to analyze the data and generate graphs\n",
    "Create a slide on Jamboard with the results and conclusions to comment on."
   ]
  },
  {
   "cell_type": "markdown",
   "metadata": {},
   "source": [
    "`hint` when using notebooks on Vertex AI: use bigquery magic function to bring data to jupyter notebook:\n",
    "\n",
    "%%bigquery df"
   ]
  },
  {
   "cell_type": "markdown",
   "metadata": {},
   "source": [
    "Some example python commands below, use the documentation to learn more:\n",
    "\n",
    "* plotly - https://plotly.com/python/ \n",
    "* yellowbrick - https://www.scikit-yb.org/en/latest/\n",
    "* seabron - https://seaborn.pydata.org/"
   ]
  },
  {
   "cell_type": "code",
   "execution_count": null,
   "metadata": {},
   "outputs": [],
   "source": [
    "!pip install --user plotly\n",
    "!pip install --user yellowbrick\n",
    "\n",
    "import seaborn as sns\n",
    "from yellowbrick.target import FeatureCorrelation\n",
    "import plotly.express as px \n",
    "import matplotlib.pyplot as plt\n",
    "import numpy as np\n",
    "\n",
    "sns.heatmap(...)\n",
    "sns.relplot(...)\n",
    "\n",
    "numeric_features = df.select_dtypes(np.number)\n",
    "FeatureCorrelation(...)\n",
    "sns.pairplot(...)"
   ]
  }
 ],
 "metadata": {
  "interpreter": {
   "hash": "48c506925716e1edcf2f33146c3d7605b581a1581101eb95766efdb2267b09f7"
  },
  "kernelspec": {
   "display_name": "Python 3.8.13 64-bit ('3.8.13')",
   "language": "python",
   "name": "python3"
  },
  "language_info": {
   "codemirror_mode": {
    "name": "ipython",
    "version": 3
   },
   "file_extension": ".py",
   "mimetype": "text/x-python",
   "name": "python",
   "nbconvert_exporter": "python",
   "pygments_lexer": "ipython3",
   "version": "3.8.13"
  },
  "orig_nbformat": 4
 },
 "nbformat": 4,
 "nbformat_minor": 2
}
