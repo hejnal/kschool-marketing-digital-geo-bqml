{
 "cells": [
  {
   "cell_type": "markdown",
   "metadata": {},
   "source": [
    "### Instructions\n",
    "\n",
    "1) Upload Spotify dataset data to BQ\n",
    "Use basic BigQuery functions to understand data characteristics:\n",
    "_MIN(), MAX(), AVG(), STDDEV(), VARIANCE(), COUNT(), COUNTIF(), CORR(), APPROX_QUANTILES(), PERCENTILE_CONT()_\n",
    "\n",
    "2) (Optional) Apply a BQ script (loop function), to produce the results for all columns\n",
    "\n",
    "3) Create a dashboard in Datastudio with the results\n",
    "\n",
    "4) (Optional) Use Jupyter notebook and standard libraries to analyze the data and generate graphs\n",
    "Create a slide on Jamboard with the results and conclusions to comment on."
   ]
  }
 ],
 "metadata": {
  "interpreter": {
   "hash": "48c506925716e1edcf2f33146c3d7605b581a1581101eb95766efdb2267b09f7"
  },
  "kernelspec": {
   "display_name": "Python 3.8.13 64-bit ('3.8.13')",
   "language": "python",
   "name": "python3"
  },
  "language_info": {
   "codemirror_mode": {
    "name": "ipython",
    "version": 3
   },
   "file_extension": ".py",
   "mimetype": "text/x-python",
   "name": "python",
   "nbconvert_exporter": "python",
   "pygments_lexer": "ipython3",
   "version": "3.8.13"
  },
  "orig_nbformat": 4
 },
 "nbformat": 4,
 "nbformat_minor": 2
}
