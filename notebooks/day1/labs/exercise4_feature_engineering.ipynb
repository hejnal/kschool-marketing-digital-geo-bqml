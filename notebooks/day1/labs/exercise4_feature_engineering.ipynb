{
 "cells": [
  {
   "cell_type": "markdown",
   "metadata": {},
   "source": [
    "### Instructions\n",
    "\n",
    "Investigate the public dataset `bigquery-public-data.google_analytics_sample.ga_sessions_*` in order to select the most suitable features for a propensity model.\n",
    "\n",
    "Field definitions: https://support.google.com/analytics/answer/3437719?hl=en\n",
    "\n",
    "(Optional) Use Cloud Dataprep to understand data distributions (without running the Dataflow pipeline - it would cost more money)\n",
    "\n",
    "Use basic SQL operations UNNEST(), IFNULL(), COUNTIF() to get the most important features\n",
    "\n",
    "`Hints`\n",
    "\n",
    "totals.newVisits = 1: user enters the web page for the first time\n",
    "\n",
    "eCommerceAction.action_type='2': add product to cart action\n",
    "\n",
    "eCommerceAction.action_type='3': checkout page\n",
    "\n",
    "totals.transactions: number of eCommerce transactions - sale\n",
    "\n",
    "fullvisitorid: random id of the user"
   ]
  },
  {
   "cell_type": "markdown",
   "metadata": {},
   "source": []
  }
 ],
 "metadata": {
  "interpreter": {
   "hash": "48c506925716e1edcf2f33146c3d7605b581a1581101eb95766efdb2267b09f7"
  },
  "kernelspec": {
   "display_name": "Python 3.8.13 64-bit ('3.8.13')",
   "language": "python",
   "name": "python3"
  },
  "language_info": {
   "codemirror_mode": {
    "name": "ipython",
    "version": 3
   },
   "file_extension": ".py",
   "mimetype": "text/x-python",
   "name": "python",
   "nbconvert_exporter": "python",
   "pygments_lexer": "ipython3",
   "version": "3.8.13"
  },
  "orig_nbformat": 4
 },
 "nbformat": 4,
 "nbformat_minor": 2
}
